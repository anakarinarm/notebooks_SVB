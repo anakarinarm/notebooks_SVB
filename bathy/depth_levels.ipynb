{
 "cells": [
  {
   "cell_type": "markdown",
   "metadata": {},
   "source": [
    "### Choose z-levels\n",
    "\n",
    "**Configurations**\n",
    "\n",
    "* Coarse, 160x224x15\n",
    "  - 15 equally spaced z-levels, $\\Delta z = 66.5$ m\n",
    "\n",
    "* Coarse, 160x224x36\n",
    "  - 36 z-levels, higher resolution above shelf break\n",
    "\n",
    "* Coarse, 320x454x36\n",
    "  - 36 z-levels, higher resolution above shelf break\n",
    "\n",
    "* Coarse, 320x454x46\n",
    "  - 46 z-levels, higher resolution above shelf break, max depth 5000 m\n",
    "\n",
    "* Domain 3, 320x454x96\n",
    "  - 96 z-levels, higher resolution above shelf break, max depth 4500 m\n",
    "\n",
    "* Domain 5, 100 levels"
   ]
  },
  {
   "cell_type": "code",
   "execution_count": 2,
   "metadata": {},
   "outputs": [],
   "source": [
    "import numpy as np\n",
    "import matplotlib.pyplot as plt\n",
    "%matplotlib inline "
   ]
  },
  {
   "cell_type": "code",
   "execution_count": 3,
   "metadata": {},
   "outputs": [],
   "source": [
    "dz1 = 10\n",
    "dz2 = 12.5\n",
    "dz3 = 15\n",
    "dz4 = 17.5\n",
    "dz5 = 20\n",
    "dz6 = 25\n",
    "dz7 = 30\n",
    "dz8 = 35\n",
    "dz9 = 40\n",
    "dz10 = 45\n",
    "dz11 = 50\n",
    "dz12 = 75\n",
    "dz13 = 100\n",
    "dzs = [dz1,dz2,dz3,dz4,dz5,dz6,dz7,dz8,dz9,dz10,dz11,dz12,dz13]\n",
    "levs = [30,2,2,2,8,2,1,1,1,1,16,2,28]\n",
    "max_depth = (levs[0]*dz1 + levs[1]*dz2 + levs[2]*dz3 + levs[3]*dz4 + \n",
    "             dz5*levs[4] + dz6*levs[5] + dz7*levs[6] + dz8*levs[7] + dz9*levs[8] +\n",
    "             dz10*levs[9]+ dz11*levs[10]+ dz12*levs[11]+ dz13*levs[12]) # m\n",
    "nlevs = np.sum(levs)"
   ]
  },
  {
   "cell_type": "code",
   "execution_count": 4,
   "metadata": {},
   "outputs": [
    {
     "name": "stdout",
     "output_type": "stream",
     "text": [
      "96\n",
      "4500.0\n"
     ]
    }
   ],
   "source": [
    "print(nlevs)\n",
    "print(max_depth)"
   ]
  },
  {
   "cell_type": "code",
   "execution_count": null,
   "metadata": {},
   "outputs": [],
   "source": []
  },
  {
   "cell_type": "code",
   "execution_count": 5,
   "metadata": {},
   "outputs": [],
   "source": [
    "dZ = np.empty(nlevs)\n",
    "jj = 0\n",
    "for dz, lev in zip(dzs,levs):\n",
    "    for ii in range(lev):\n",
    "        dZ[jj] = dz\n",
    "        jj = jj+1"
   ]
  },
  {
   "cell_type": "code",
   "execution_count": 6,
   "metadata": {},
   "outputs": [
    {
     "name": "stdout",
     "output_type": "stream",
     "text": [
      "[ 10.   10.   10.   10.   10.   10.   10.   10.   10.   10.   10.   10.\n",
      "  10.   10.   10.   10.   10.   10.   10.   10.   10.   10.   10.   10.\n",
      "  10.   10.   10.   10.   10.   10.   12.5  12.5  15.   15.   17.5  17.5\n",
      "  20.   20.   20.   20.   20.   20.   20.   20.   25.   25.   30.   35.\n",
      "  40.   45.   50.   50.   50.   50.   50.   50.   50.   50.   50.   50.\n",
      "  50.   50.   50.   50.   50.   50.   75.   75.  100.  100.  100.  100.\n",
      " 100.  100.  100.  100.  100.  100.  100.  100.  100.  100.  100.  100.\n",
      " 100.  100.  100.  100.  100.  100.  100.  100.  100.  100.  100.  100. ]\n"
     ]
    }
   ],
   "source": [
    "print(dZ)"
   ]
  },
  {
   "cell_type": "code",
   "execution_count": 7,
   "metadata": {},
   "outputs": [
    {
     "name": "stdout",
     "output_type": "stream",
     "text": [
      "-0.0 0\n",
      "-10.0 1\n",
      "-20.0 2\n",
      "-30.0 3\n",
      "-40.0 4\n",
      "-50.0 5\n",
      "-60.0 6\n",
      "-70.0 7\n",
      "-80.0 8\n",
      "-90.0 9\n",
      "-100.0 10\n",
      "-110.0 11\n",
      "-120.0 12\n",
      "-130.0 13\n",
      "-140.0 14\n",
      "-150.0 15\n",
      "-160.0 16\n",
      "-170.0 17\n",
      "-180.0 18\n",
      "-190.0 19\n",
      "-200.0 20\n",
      "-210.0 21\n",
      "-220.0 22\n",
      "-230.0 23\n",
      "-240.0 24\n",
      "-250.0 25\n",
      "-260.0 26\n",
      "-270.0 27\n",
      "-280.0 28\n",
      "-290.0 29\n",
      "-300.0 30\n",
      "-312.5 31\n",
      "-325.0 32\n",
      "-340.0 33\n",
      "-355.0 34\n",
      "-372.5 35\n",
      "-390.0 36\n",
      "-410.0 37\n",
      "-430.0 38\n",
      "-450.0 39\n",
      "-470.0 40\n",
      "-490.0 41\n",
      "-510.0 42\n",
      "-530.0 43\n",
      "-550.0 44\n",
      "-575.0 45\n",
      "-600.0 46\n",
      "-630.0 47\n",
      "-665.0 48\n",
      "-705.0 49\n",
      "-750.0 50\n",
      "-800.0 51\n",
      "-850.0 52\n",
      "-900.0 53\n",
      "-950.0 54\n",
      "-1000.0 55\n",
      "-1050.0 56\n",
      "-1100.0 57\n",
      "-1150.0 58\n",
      "-1200.0 59\n",
      "-1250.0 60\n",
      "-1300.0 61\n",
      "-1350.0 62\n",
      "-1400.0 63\n",
      "-1450.0 64\n",
      "-1500.0 65\n",
      "-1550.0 66\n",
      "-1625.0 67\n",
      "-1700.0 68\n",
      "-1800.0 69\n",
      "-1900.0 70\n",
      "-2000.0 71\n",
      "-2100.0 72\n",
      "-2200.0 73\n",
      "-2300.0 74\n",
      "-2400.0 75\n",
      "-2500.0 76\n",
      "-2600.0 77\n",
      "-2700.0 78\n",
      "-2800.0 79\n",
      "-2900.0 80\n",
      "-3000.0 81\n",
      "-3100.0 82\n",
      "-3200.0 83\n",
      "-3300.0 84\n",
      "-3400.0 85\n",
      "-3500.0 86\n",
      "-3600.0 87\n",
      "-3700.0 88\n",
      "-3800.0 89\n",
      "-3900.0 90\n",
      "-4000.0 91\n",
      "-4100.0 92\n",
      "-4200.0 93\n",
      "-4300.0 94\n",
      "-4400.0 95\n"
     ]
    }
   ],
   "source": [
    "for ii in range(len(dZ)):\n",
    "    print(-np.sum(dZ[:ii]), ii)"
   ]
  },
  {
   "cell_type": "code",
   "execution_count": 8,
   "metadata": {},
   "outputs": [
    {
     "name": "stdout",
     "output_type": "stream",
     "text": [
      "-0.0,\n",
      "-10.0,\n",
      "-20.0,\n",
      "-30.0,\n",
      "-40.0,\n",
      "-50.0,\n",
      "-60.0,\n",
      "-70.0,\n",
      "-80.0,\n",
      "-90.0,\n",
      "-100.0,\n",
      "-110.0,\n",
      "-120.0,\n",
      "-130.0,\n",
      "-140.0,\n",
      "-150.0,\n",
      "-160.0,\n",
      "-170.0,\n",
      "-180.0,\n",
      "-190.0,\n",
      "-200.0,\n",
      "-210.0,\n",
      "-220.0,\n",
      "-230.0,\n",
      "-240.0,\n",
      "-250.0,\n",
      "-260.0,\n",
      "-270.0,\n",
      "-280.0,\n",
      "-290.0,\n",
      "-300.0,\n",
      "-312.5,\n",
      "-325.0,\n",
      "-340.0,\n",
      "-355.0,\n",
      "-372.5,\n",
      "-390.0,\n",
      "-410.0,\n",
      "-430.0,\n",
      "-450.0,\n",
      "-470.0,\n",
      "-490.0,\n",
      "-510.0,\n",
      "-530.0,\n",
      "-550.0,\n",
      "-575.0,\n",
      "-600.0,\n",
      "-630.0,\n",
      "-665.0,\n",
      "-705.0,\n",
      "-750.0,\n",
      "-800.0,\n",
      "-850.0,\n",
      "-900.0,\n",
      "-950.0,\n",
      "-1000.0,\n",
      "-1050.0,\n",
      "-1100.0,\n",
      "-1150.0,\n",
      "-1200.0,\n",
      "-1250.0,\n",
      "-1300.0,\n",
      "-1350.0,\n",
      "-1400.0,\n",
      "-1450.0,\n",
      "-1500.0,\n",
      "-1550.0,\n",
      "-1625.0,\n",
      "-1700.0,\n",
      "-1800.0,\n",
      "-1900.0,\n",
      "-2000.0,\n",
      "-2100.0,\n",
      "-2200.0,\n",
      "-2300.0,\n",
      "-2400.0,\n",
      "-2500.0,\n",
      "-2600.0,\n",
      "-2700.0,\n",
      "-2800.0,\n",
      "-2900.0,\n",
      "-3000.0,\n",
      "-3100.0,\n",
      "-3200.0,\n",
      "-3300.0,\n",
      "-3400.0,\n",
      "-3500.0,\n",
      "-3600.0,\n",
      "-3700.0,\n",
      "-3800.0,\n",
      "-3900.0,\n",
      "-4000.0,\n",
      "-4100.0,\n",
      "-4200.0,\n",
      "-4300.0,\n",
      "-4400.0,\n",
      "-4500.0\n"
     ]
    }
   ],
   "source": [
    "#model_depth \n",
    "for ii in range(len(dZ)):\n",
    "    print('%1.1f,' %(-np.sum(dZ[:ii])))\n",
    "print('-4500.0')"
   ]
  },
  {
   "cell_type": "code",
   "execution_count": 9,
   "metadata": {},
   "outputs": [],
   "source": [
    "model_depth = [-0.0,\n",
    "                -10.0,\n",
    "                -20.0,\n",
    "                -30.0,\n",
    "                -40.0,\n",
    "                -50.0,\n",
    "                -60.0,\n",
    "                -70.0,\n",
    "                -80.0,\n",
    "                -90.0,\n",
    "                -100.0,\n",
    "                -110.0,\n",
    "                -120.0,\n",
    "                -130.0,\n",
    "                -140.0,\n",
    "                -150.0,\n",
    "                -160.0,\n",
    "                -170.0,\n",
    "                -180.0,\n",
    "                -190.0,\n",
    "                -200.0,\n",
    "                -210.0,\n",
    "                -220.0,\n",
    "                -230.0,\n",
    "                -240.0,\n",
    "                -250.0,\n",
    "                -260.0,\n",
    "                -270.0,\n",
    "                -280.0,\n",
    "                -290.0,\n",
    "                -300.0,\n",
    "                -312.5,\n",
    "                -325.0,\n",
    "                -340.0,\n",
    "                -355.0,\n",
    "                -372.5,\n",
    "                -390.0,\n",
    "                -410.0,\n",
    "                -430.0,\n",
    "                -450.0,\n",
    "                -470.0,\n",
    "                -490.0,\n",
    "                -510.0,\n",
    "                -530.0,\n",
    "                -550.0,\n",
    "                -575.0,\n",
    "                -600.0,\n",
    "                -630.0,\n",
    "                -665.0,\n",
    "                -705.0,\n",
    "                -750.0,\n",
    "                -800.0,\n",
    "                -850.0,\n",
    "                -900.0,\n",
    "                -950.0,\n",
    "                -1000.0,\n",
    "                -1050.0,\n",
    "                -1100.0,\n",
    "                -1150.0,\n",
    "                -1200.0,\n",
    "                -1250.0,\n",
    "                -1300.0,\n",
    "                -1350.0,\n",
    "                -1400.0,\n",
    "                -1450.0,\n",
    "                -1500.0,\n",
    "                -1550.0,\n",
    "                -1625.0,\n",
    "                -1700.0,\n",
    "                -1800.0,\n",
    "                -1900.0,\n",
    "                -2000.0,\n",
    "                -2100.0,\n",
    "                -2200.0,\n",
    "                -2300.0,\n",
    "                -2400.0,\n",
    "                -2500.0,\n",
    "                -2600.0,\n",
    "                -2700.0,\n",
    "                -2800.0,\n",
    "                -2900.0,\n",
    "                -3000.0,\n",
    "                -3100.0,\n",
    "                -3200.0,\n",
    "                -3300.0,\n",
    "                -3400.0,\n",
    "                -3500.0,\n",
    "                -3600.0,\n",
    "                -3700.0,\n",
    "                -3800.0,\n",
    "                -3900.0,\n",
    "                -4000.0,\n",
    "                -4100.0,\n",
    "                -4200.0,\n",
    "                -4300.0,\n",
    "                -4400.0,\n",
    "                -4500.0]"
   ]
  },
  {
   "cell_type": "code",
   "execution_count": 10,
   "metadata": {},
   "outputs": [
    {
     "data": {
      "text/plain": [
       "Text(0, 0.5, 'depth / m')"
      ]
     },
     "execution_count": 10,
     "metadata": {},
     "output_type": "execute_result"
    },
    {
     "data": {
      "image/png": "[encoded data removed]",
      "text/plain": [
       "<Figure size 432x288 with 1 Axes>"
      ]
     },
     "metadata": {
      "needs_background": "light"
     },
     "output_type": "display_data"
    }
   ],
   "source": [
    "plt.plot(dZ,model_depth[1:],'-o')\n",
    "plt.xlabel('dz / m')\n",
    "plt.ylabel('depth / m')"
   ]
  },
  {
   "cell_type": "code",
   "execution_count": 11,
   "metadata": {},
   "outputs": [
    {
     "data": {
      "text/plain": [
       "400.0"
      ]
     },
     "execution_count": 11,
     "metadata": {},
     "output_type": "execute_result"
    }
   ],
   "source": [
    "1600/4"
   ]
  },
  {
   "cell_type": "code",
   "execution_count": null,
   "metadata": {},
   "outputs": [],
   "source": []
  },
  {
   "cell_type": "code",
   "execution_count": null,
   "metadata": {},
   "outputs": [],
   "source": []
  },
  {
   "cell_type": "code",
   "execution_count": 12,
   "metadata": {},
   "outputs": [
    {
     "name": "stdout",
     "output_type": "stream",
     "text": [
      "(101,)\n"
     ]
    }
   ],
   "source": [
    "# cell thickness, 100 levels - Max depth 4700 m\n",
    "DRF = np.array([0, 2, 2, 2, 2, 2, 2.2, 2.4, 2.6, 2.8, \n",
    "                3.0, 3.2, 3.5, 3.8, 4.2, 4.5, 4.8, 5, 5, 5, \n",
    "                5, 5, 5, 5.5, 5.5, 5.5, 5.5, 5.5, 6, 6.5,\n",
    "                7, 7.5, 8, 8.5, 9.2, 10, 10, 10, 10, 10, 10, \n",
    "                10, 11, 12, 13, 14, 15, 16, 17, 18, 20,\n",
    "                22, 23, 25, 25, 25, 25, 25, 25, 25, 25, \n",
    "                27, 28, 30, 30, 32, 34, 36, 38, 40, 43, \n",
    "                46, 50, 55, 59, 65, 70, 75, 80, 85, 92, \n",
    "                100, 100, 100, 100, 100, 100, 105, 115, 125, 132,\n",
    "                145, 160, 170, 180, 190, 200, 210, 230, 245, 269.8])\n",
    " \n",
    "# depth of cell surfaces\n",
    "RF = np.cumsum(DRF)\n",
    "print(np.shape(DRF))\n",
    "# subsample for 50 levels\n",
    "RF_50 = RF[::2]"
   ]
  },
  {
   "cell_type": "code",
   "execution_count": 13,
   "metadata": {},
   "outputs": [
    {
     "name": "stderr",
     "output_type": "stream",
     "text": [
      "/Users/Karina/anaconda3/lib/python3.7/site-packages/ipykernel_launcher.py:2: RuntimeWarning: divide by zero encountered in true_divide\n",
      "  \n"
     ]
    },
    {
     "data": {
      "text/plain": [
       "<matplotlib.legend.Legend at 0x1142d58d0>"
      ]
     },
     "execution_count": 13,
     "metadata": {},
     "output_type": "execute_result"
    },
    {
     "data": {
      "image/png": "[encoded data removed]",
      "text/plain": [
       "<Figure size 720x288 with 1 Axes>"
      ]
     },
     "metadata": {
      "needs_background": "light"
     },
     "output_type": "display_data"
    }
   ],
   "source": [
    "fig, ax = plt.subplots(1,1, figsize=(10,4))\n",
    "ax.plot(DRF[1:],100*((DRF[1:]-DRF[0:-1])/DRF[0:-1]),'.-', label='')\n",
    "ax.axhline(10, color='0.5', label='10% difference')\n",
    "ax.set_xlabel('DRF  (m)')\n",
    "ax.set_ylabel(r'(DRF$^{i+1}$-DRF$^{i}$)/DRF$^{i}$ (%) ')\n",
    "ax.legend()"
   ]
  },
  {
   "cell_type": "code",
   "execution_count": 21,
   "metadata": {},
   "outputs": [
    {
     "data": {
      "text/plain": [
       "Text(0.5, 0, 'Depth level')"
      ]
     },
     "execution_count": 21,
     "metadata": {},
     "output_type": "execute_result"
    },
    {
     "data": {
      "image/png": "[encoded data removed]",
      "text/plain": [
       "<Figure size 360x216 with 1 Axes>"
      ]
     },
     "metadata": {
      "needs_background": "light"
     },
     "output_type": "display_data"
    }
   ],
   "source": [
    "fig, ax = plt.subplots(1,1, figsize=(5,3))\n",
    "ax.plot(-RF,'.-')\n",
    "#ax.plot(-RF_50,'.-', '50 level version')\n",
    "\n",
    "ax.set_xlim(0,100)\n",
    "ax.set_ylabel('Depth (m)')\n",
    "ax.set_xlabel('Depth level')"
   ]
  },
  {
   "cell_type": "code",
   "execution_count": 15,
   "metadata": {},
   "outputs": [
    {
     "data": {
      "text/plain": [
       "array([0.0000e+00, 2.0000e+00, 4.0000e+00, 6.0000e+00, 8.0000e+00,\n",
       "       1.0000e+01, 1.2200e+01, 1.4600e+01, 1.7200e+01, 2.0000e+01,\n",
       "       2.3000e+01, 2.6200e+01, 2.9700e+01, 3.3500e+01, 3.7700e+01,\n",
       "       4.2200e+01, 4.7000e+01, 5.2000e+01, 5.7000e+01, 6.2000e+01,\n",
       "       6.7000e+01, 7.2000e+01, 7.7000e+01, 8.2500e+01, 8.8000e+01,\n",
       "       9.3500e+01, 9.9000e+01, 1.0450e+02, 1.1050e+02, 1.1700e+02,\n",
       "       1.2400e+02, 1.3150e+02, 1.3950e+02, 1.4800e+02, 1.5720e+02,\n",
       "       1.6720e+02, 1.7720e+02, 1.8720e+02, 1.9720e+02, 2.0720e+02,\n",
       "       2.1720e+02, 2.2720e+02, 2.3820e+02, 2.5020e+02, 2.6320e+02,\n",
       "       2.7720e+02, 2.9220e+02, 3.0820e+02, 3.2520e+02, 3.4320e+02,\n",
       "       3.6320e+02, 3.8520e+02, 4.0820e+02, 4.3320e+02, 4.5820e+02,\n",
       "       4.8320e+02, 5.0820e+02, 5.3320e+02, 5.5820e+02, 5.8320e+02,\n",
       "       6.0820e+02, 6.3520e+02, 6.6320e+02, 6.9320e+02, 7.2320e+02,\n",
       "       7.5520e+02, 7.8920e+02, 8.2520e+02, 8.6320e+02, 9.0320e+02,\n",
       "       9.4620e+02, 9.9220e+02, 1.0422e+03, 1.0972e+03, 1.1562e+03,\n",
       "       1.2212e+03, 1.2912e+03, 1.3662e+03, 1.4462e+03, 1.5312e+03,\n",
       "       1.6232e+03, 1.7232e+03, 1.8232e+03, 1.9232e+03, 2.0232e+03,\n",
       "       2.1232e+03, 2.2232e+03, 2.3282e+03, 2.4432e+03, 2.5682e+03,\n",
       "       2.7002e+03, 2.8452e+03, 3.0052e+03, 3.1752e+03, 3.3552e+03,\n",
       "       3.5452e+03, 3.7452e+03, 3.9552e+03, 4.1852e+03, 4.4302e+03,\n",
       "       4.7000e+03])"
      ]
     },
     "execution_count": 15,
     "metadata": {},
     "output_type": "execute_result"
    }
   ],
   "source": [
    "RF"
   ]
  },
  {
   "cell_type": "code",
   "execution_count": 16,
   "metadata": {},
   "outputs": [
    {
     "data": {
      "text/plain": [
       "(101,)"
      ]
     },
     "execution_count": 16,
     "metadata": {},
     "output_type": "execute_result"
    }
   ],
   "source": [
    "np.shape(DRF)"
   ]
  },
  {
   "cell_type": "code",
   "execution_count": 17,
   "metadata": {},
   "outputs": [
    {
     "data": {
      "text/plain": [
       "(1156.2, 1531.2, 2023.2, 2568.2, 3355.2, 4430.2)"
      ]
     },
     "execution_count": 17,
     "metadata": {},
     "output_type": "execute_result"
    }
   ],
   "source": [
    "RF[74], RF[79], RF[84], RF[89], RF[94], RF[99]"
   ]
  },
  {
   "cell_type": "code",
   "execution_count": 18,
   "metadata": {},
   "outputs": [
    {
     "data": {
      "text/plain": [
       "0.76"
      ]
     },
     "execution_count": 18,
     "metadata": {},
     "output_type": "execute_result"
    }
   ],
   "source": [
    "(320*76*454)/(320*100*454)"
   ]
  },
  {
   "cell_type": "code",
   "execution_count": 19,
   "metadata": {},
   "outputs": [
    {
     "data": {
      "text/plain": [
       "61.56"
      ]
     },
     "execution_count": 19,
     "metadata": {},
     "output_type": "execute_result"
    }
   ],
   "source": [
    "81*.76"
   ]
  },
  {
   "cell_type": "code",
   "execution_count": 20,
   "metadata": {},
   "outputs": [
    {
     "data": {
      "text/plain": [
       "9.0"
      ]
     },
     "execution_count": 20,
     "metadata": {},
     "output_type": "execute_result"
    }
   ],
   "source": [
    "4700-4.6910e+03"
   ]
  },
  {
   "cell_type": "code",
   "execution_count": null,
   "metadata": {},
   "outputs": [],
   "source": []
  }
 ],
 "metadata": {
  "kernelspec": {
   "display_name": "Python 3",
   "language": "python",
   "name": "python3"
  },
  "language_info": {
   "codemirror_mode": {
    "name": "ipython",
    "version": 3
   },
   "file_extension": ".py",
   "mimetype": "text/x-python",
   "name": "python",
   "nbconvert_exporter": "python",
   "pygments_lexer": "ipython3",
   "version": "3.9.5"
  }
 },
 "nbformat": 4,
 "nbformat_minor": 4
}
