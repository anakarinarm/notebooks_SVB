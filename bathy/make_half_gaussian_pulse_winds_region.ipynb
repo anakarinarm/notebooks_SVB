{
 "cells": [
  {
   "cell_type": "markdown",
   "metadata": {},
   "source": [
    "### Create alongshore half gaussian pulse wind stress file for a region in the domain\n",
    "* Winds blowing only in a specific rectangular region of the domain\n",
    "* Find meridional and zonal contirbutions to get alongshore wind stress pulse, spatially uniform.\n",
    "* Generate zonal and meridional binary files for upwelling and downwelling favourable alongshore windstress (4 files).\n",
    "* Gaussian pulse, e-fold of value `sigma`, max windstress of `max_tau`, centered in time around `center`"
   ]
  },
  {
   "cell_type": "code",
   "execution_count": 2,
   "metadata": {},
   "outputs": [],
   "source": [
    "import cmocean as cmo\n",
    "import matplotlib.pyplot as plt\n",
    "import numpy as np\n",
    "%matplotlib inline"
   ]
  },
  {
   "cell_type": "markdown",
   "metadata": {},
   "source": [
    "### INPUT\n",
    "\n",
    "Only change these values"
   ]
  },
  {
   "cell_type": "code",
   "execution_count": 3,
   "metadata": {},
   "outputs": [],
   "source": [
    "## Gaussian pulse\n",
    "nt = 120 # number of wind records\n",
    "end_time = 60 # end time of records\n",
    "t = np.linspace(0,end_time,nt) # time array of wind records\n",
    "max_tau = 0.1 # original 0.1\n",
    "sigma = 1 \n",
    "center = 3.5 # base 3.5 hr, faster 2.5 hr, slower 4.5\n",
    "gauss = max_tau*np.exp(-((t-center)**2)/(2*sigma))\n",
    "mask = t>center\n",
    "gauss[mask]=0\n",
    "\n",
    "## Rotation angle (in deg) to get alongshore winds (see previous notebook)\n",
    "angle_up = 120. # upwelling favourable\n",
    "angle_down = 300. # downwelling favourable\n",
    "\n",
    "## Grid size\n",
    "nx = 576 # domain 5: 512, domain 6: 576  \n",
    "ny = 612 # domain 5: 612, domain 6: 612  \n",
    "lat_bot = 27.0 \n",
    "lat_top = 35.3 \n",
    "\n",
    "## Region where winds will blow (over SVB: 27.9, 30.0, -115.1, -114)\n",
    "lat1 = 27.0 \n",
    "lat2 = 35.3 \n",
    "lon1 = -123 # -122 domain 5\n",
    "lon2 = -114\n",
    "\n",
    "## Domain boundaries\n",
    "lon_ini = -123.0 # -122.0 domain 5\n",
    "lon_end = -114.0\n",
    "lat_ini = 27.0\n",
    "lat_end = 35.3\n",
    "\n",
    "# filenames - 4 files created: 2 upw (zonal and meridional components), 2 downwelling (zonal and merid)\n",
    "run_desc = 'halfgauss2hr' # descriptive string to add to wind filename. \n",
    "                     # Final name is eg. upwelling_merid_gauss1d_160x224.bin saved in dir 160x224/"
   ]
  },
  {
   "cell_type": "markdown",
   "metadata": {},
   "source": [
    "### Make files"
   ]
  },
  {
   "cell_type": "code",
   "execution_count": 4,
   "metadata": {},
   "outputs": [
    {
     "name": "stdout",
     "output_type": "stream",
     "text": [
      "This is your half gaussian pulse\n",
      "0.00021874911181828853\n"
     ]
    },
    {
     "data": {
      "image/png": "[encoded data removed]",
      "text/plain": [
       "<Figure size 432x288 with 1 Axes>"
      ]
     },
     "metadata": {
      "needs_background": "light"
     },
     "output_type": "display_data"
    }
   ],
   "source": [
    "plt.plot(t,gauss,'-o')\n",
    "plt.xlabel('time / hrs')\n",
    "plt.ylabel(r'$\\tau_{||}$ / N m$^{-2}$')\n",
    "print('This is your half gaussian pulse')\n",
    "print(gauss[0])"
   ]
  },
  {
   "cell_type": "code",
   "execution_count": 5,
   "metadata": {},
   "outputs": [
    {
     "data": {
      "text/plain": [
       "<matplotlib.colorbar.Colorbar at 0x7fa9bef31dd0>"
      ]
     },
     "execution_count": 5,
     "metadata": {},
     "output_type": "execute_result"
    },
    {
     "data": {
      "image/png": "[encoded data removed]",
      "text/plain": [
       "<Figure size 432x288 with 2 Axes>"
      ]
     },
     "metadata": {
      "needs_background": "light"
     },
     "output_type": "display_data"
    }
   ],
   "source": [
    "### Rotate winds\n",
    "windstress= np.expand_dims(np.expand_dims(gauss,0),0) + np.zeros((nx,ny,nt))\n",
    "\n",
    "alpha = np.radians(120.)\n",
    "alpha2 = np.radians(300.)\n",
    "\n",
    "zonal_tau = windstress*np.cos(alpha)\n",
    "merid_tau = windstress*np.sin(alpha)\n",
    "\n",
    "zonal_tau2 = windstress*np.cos(alpha2)\n",
    "merid_tau2 = windstress*np.sin(alpha2)\n",
    "\n",
    "cm = plt.pcolormesh(zonal_tau[:,:,7], cmap=cmo.cm.balance)\n",
    "plt.colorbar(cm)"
   ]
  },
  {
   "cell_type": "code",
   "execution_count": 6,
   "metadata": {},
   "outputs": [],
   "source": [
    "### Set windstress to 0 outside region of interest\n",
    "lon = np.linspace(lon_ini, lon_end, nx)\n",
    "lat = np.linspace(lat_ini, lat_end, ny)\n",
    "\n",
    "LAT,LON = np.meshgrid(lat,lon)\n",
    "lon_array = np.expand_dims(LON,2) + np.zeros((nx,ny,nt))\n",
    "lat_array = np.expand_dims(LAT,2) + np.zeros((nx,ny,nt))\n",
    "\n",
    "mask_lon = lon_array<lon1\n",
    "mask_lat = lat_array>lat2 \n",
    "mask_lat2 = lat_array<lat1"
   ]
  },
  {
   "cell_type": "code",
   "execution_count": 7,
   "metadata": {},
   "outputs": [],
   "source": [
    "def apply_mask(array):\n",
    "    array[mask_lon] = 0 \n",
    "    array[mask_lat] = 0 \n",
    "    array[mask_lat2] = 0 \n",
    "    return(array)"
   ]
  },
  {
   "cell_type": "code",
   "execution_count": 8,
   "metadata": {},
   "outputs": [],
   "source": [
    "zonal_tau = apply_mask(zonal_tau)\n",
    "merid_tau = apply_mask(merid_tau)\n",
    "zonal_tau2 = apply_mask(zonal_tau2)\n",
    "merid_tau2 = apply_mask(merid_tau2)"
   ]
  },
  {
   "cell_type": "code",
   "execution_count": 9,
   "metadata": {},
   "outputs": [
    {
     "name": "stdout",
     "output_type": "stream",
     "text": [
      "(576, 612, 120)\n"
     ]
    },
    {
     "data": {
      "image/png": "[encoded data removed]",
      "text/plain": [
       "<Figure size 432x288 with 2 Axes>"
      ]
     },
     "metadata": {
      "needs_background": "light"
     },
     "output_type": "display_data"
    }
   ],
   "source": [
    "pc = plt.pcolormesh(lat,lon,zonal_tau[:,:,5])\n",
    "plt.colorbar(pc)\n",
    "print(np.shape(zonal_tau))"
   ]
  },
  {
   "cell_type": "code",
   "execution_count": 10,
   "metadata": {},
   "outputs": [],
   "source": [
    "### Write binary files\n",
    "dt = np.dtype('>f8')  # float 64 big endian\n",
    "\n",
    "wind_fname1 = '%dx%d/downwelling_merid_%s_%dx%d.bin' %(nx,ny,run_desc,nx,ny)\n",
    "fileobj = open(wind_fname1, mode='wb')\n",
    "dd=merid_tau.transpose((2,1,0))\n",
    "dd.astype(dt).tofile(fileobj,\"\")\n",
    "fileobj.close()\n",
    "\n",
    "wind_fname2 = '%dx%d/downwelling_zonal_%s_%dx%d.bin' %(nx,ny,run_desc,nx,ny)\n",
    "fileobj = open(wind_fname2, mode='wb')\n",
    "dd=zonal_tau.transpose((2,1,0))\n",
    "dd.astype(dt).tofile(fileobj,\"\")\n",
    "fileobj.close()\n",
    "\n",
    "wind_fname3 = '%dx%d/upwelling_zonal_%s_%dx%d.bin' %(nx,ny,run_desc,nx,ny)\n",
    "fileobj = open(wind_fname3, mode='wb')\n",
    "dd=zonal_tau2.transpose((2,1,0))\n",
    "dd.astype(dt).tofile(fileobj,\"\")\n",
    "fileobj.close()\n",
    "\n",
    "wind_fname4 = '%dx%d/upwelling_merid_%s_%dx%d.bin' %(nx,ny,run_desc,nx,ny)\n",
    "fileobj = open(wind_fname4, mode='wb')\n",
    "dd=merid_tau2.transpose((2,1,0))\n",
    "dd.astype(dt).tofile(fileobj,\"\")\n",
    "fileobj.close()"
   ]
  },
  {
   "cell_type": "markdown",
   "metadata": {},
   "source": [
    "#### Check that bin file works when read by fortran"
   ]
  },
  {
   "cell_type": "code",
   "execution_count": 11,
   "metadata": {},
   "outputs": [
    {
     "name": "stdout",
     "output_type": "stream",
     "text": [
      "(42301440,)\n"
     ]
    },
    {
     "data": {
      "text/plain": [
       "<matplotlib.colorbar.Colorbar at 0x7fa95f1e4c50>"
      ]
     },
     "execution_count": 11,
     "metadata": {},
     "output_type": "execute_result"
    },
    {
     "data": {
      "image/png": "[encoded data removed]",
      "text/plain": [
       "<Figure size 360x360 with 2 Axes>"
      ]
     },
     "metadata": {
      "needs_background": "light"
     },
     "output_type": "display_data"
    }
   ],
   "source": [
    "cc=np.fromfile(wind_fname3, dtype=dt)\n",
    "print(np.shape(cc))\n",
    "\n",
    "bF=np.reshape(cc,[nx,ny,nt],'F') # F to read in Fortran order\n",
    "\n",
    "fig,ax = plt.subplots(1,1, figsize=(5,5))\n",
    "\n",
    "pc = ax.contourf(bF[:,:,2], 20, cmap=cmo.cm.balance)\n",
    "plt.colorbar(pc,ax=ax)"
   ]
  },
  {
   "cell_type": "code",
   "execution_count": 12,
   "metadata": {},
   "outputs": [
    {
     "data": {
      "text/plain": [
       "(0, 20)"
      ]
     },
     "execution_count": 12,
     "metadata": {},
     "output_type": "execute_result"
    },
    {
     "data": {
      "image/png": "[encoded data removed]",
      "text/plain": [
       "<Figure size 432x288 with 1 Axes>"
      ]
     },
     "metadata": {
      "needs_background": "light"
     },
     "output_type": "display_data"
    }
   ],
   "source": [
    "# Make a plot for talks\n",
    "import seaborn as sns\n",
    "\n",
    "sns.set_context('talk')\n",
    "plt.plot(t,gauss,'-', color='0.2')\n",
    "plt.xlabel('time / hrs')\n",
    "plt.ylabel(r'$\\tau_{||}$ / N m$^{-2}$')\n",
    "plt.xlim(0,20)"
   ]
  },
  {
   "cell_type": "code",
   "execution_count": null,
   "metadata": {},
   "outputs": [],
   "source": []
  }
 ],
 "metadata": {
  "kernelspec": {
   "display_name": "Python 3",
   "language": "python",
   "name": "python3"
  },
  "language_info": {
   "codemirror_mode": {
    "name": "ipython",
    "version": 3
   },
   "file_extension": ".py",
   "mimetype": "text/x-python",
   "name": "python",
   "nbconvert_exporter": "python",
   "pygments_lexer": "ipython3",
   "version": "3.9.5"
  }
 },
 "nbformat": 4,
 "nbformat_minor": 4
}
