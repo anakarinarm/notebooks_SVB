{
 "cells": [
  {
   "cell_type": "markdown",
   "metadata": {},
   "source": [
    "### Create zero-velocity files for open boundaries\n",
    "\n",
    "To set tangential velocities to zero I need to generate OBCS files for:\n",
    "\n",
    "* **Northern boundary**: u=0, 160x36x120, \n",
    "160=Nx, 120 time levels that match wind forcing period (1800 s) and cycle (216000 s)\n",
    "* **Southern boundary**: u=0, 160x36x120 \n",
    "* **Western boundary**: v=0, 224x36x120, \n",
    "(224=Ny, time levels as above)"
   ]
  },
  {
   "cell_type": "code",
   "execution_count": 1,
   "metadata": {},
   "outputs": [],
   "source": [
    "import cmocean as cmo\n",
    "import matplotlib.pyplot as plt\n",
    "from netCDF4 import Dataset\n",
    "import numpy as np\n",
    "%matplotlib inline"
   ]
  },
  {
   "cell_type": "markdown",
   "metadata": {},
   "source": [
    "### Make arrays"
   ]
  },
  {
   "cell_type": "code",
   "execution_count": 3,
   "metadata": {},
   "outputs": [],
   "source": [
    "nx = 160\n",
    "ny = 224\n",
    "nz = 36\n",
    "nt = 120"
   ]
  },
  {
   "cell_type": "code",
   "execution_count": 4,
   "metadata": {},
   "outputs": [],
   "source": [
    "Nu = np.zeros((nx,nz,nt))\n",
    "Su = np.zeros((nx,nz,nt))\n",
    "Wv = np.zeros((ny,nz,nt))"
   ]
  },
  {
   "cell_type": "markdown",
   "metadata": {},
   "source": [
    "### Binary files"
   ]
  },
  {
   "cell_type": "code",
   "execution_count": 6,
   "metadata": {},
   "outputs": [],
   "source": [
    "dt = np.dtype('>f8')  # float 64 big endian\n",
    "\n",
    "Nu_fname = '%sx%sx%s/Nu_zerovel_%sx%sx%s.bin' %(nx,ny,nz,nx,nz,nt)\n",
    "fileobj = open(Nu_fname, mode='wb')\n",
    "dd=Nu.transpose((2,0,1))\n",
    "dd.astype(dt).tofile(fileobj,\"\")\n",
    "fileobj.close()\n",
    "\n",
    "Su_fname = '%sx%sx%s/Su_zerovel_%sx%sx%s.bin' %(nx,ny,nz,nx,nz,nt)\n",
    "fileobj = open(Su_fname, mode='wb')\n",
    "dd=Su.transpose((2,0,1))\n",
    "dd.astype(dt).tofile(fileobj,\"\")\n",
    "fileobj.close()\n",
    "\n",
    "Wv_fname = '%sx%sx%s/Wv_zerovel_%sx%sx%s.bin' %(nx,ny,nz,ny,nz,nt)\n",
    "fileobj = open(Wv_fname, mode='wb')\n",
    "dd=Wv.transpose((2,0,1))\n",
    "dd.astype(dt).tofile(fileobj,\"\")\n",
    "fileobj.close()"
   ]
  },
  {
   "cell_type": "code",
   "execution_count": null,
   "metadata": {},
   "outputs": [],
   "source": []
  }
 ],
 "metadata": {
  "kernelspec": {
   "display_name": "Python 3",
   "language": "python",
   "name": "python3"
  },
  "language_info": {
   "codemirror_mode": {
    "name": "ipython",
    "version": 3
   },
   "file_extension": ".py",
   "mimetype": "text/x-python",
   "name": "python",
   "nbconvert_exporter": "python",
   "pygments_lexer": "ipython3",
   "version": "3.7.6"
  }
 },
 "nbformat": 4,
 "nbformat_minor": 4
}
