{
 "cells": [
  {
   "cell_type": "markdown",
   "metadata": {},
   "source": [
    "### Create alongshore half gaussian pulse wind stress file\n",
    "\n",
    "* Find meridional and zonal contirbutions to get alongshore wind stress pulse, spatially uniform.\n",
    "* Generate zonal and meridional binary files for upwelling and downwelling favourable alongshore windstress (4 files).\n",
    "* Gaussian pulse, e-fold of value `sigma`, max windstress of `max_tau`, centered in time around `center`"
   ]
  },
  {
   "cell_type": "code",
   "execution_count": 14,
   "metadata": {},
   "outputs": [],
   "source": [
    "import cmocean as cmo\n",
    "import matplotlib.pyplot as plt\n",
    "import numpy as np\n",
    "%matplotlib inline"
   ]
  },
  {
   "cell_type": "markdown",
   "metadata": {},
   "source": [
    "### INPUT\n",
    "\n",
    "Only change these values"
   ]
  },
  {
   "cell_type": "code",
   "execution_count": 15,
   "metadata": {},
   "outputs": [],
   "source": [
    "## Gaussian pulse\n",
    "nt = 120 # number of wind records\n",
    "end_time = 60 # end time of records\n",
    "t = np.linspace(0,end_time,nt) # time array of wind records\n",
    "max_tau = 0.1\n",
    "sigma = 1 # 2\n",
    "center = 3.5 #5.5\n",
    "gauss = max_tau*np.exp(-((t-center)**2)/(2*sigma))\n",
    "mask = t>center\n",
    "gauss[mask]=0\n",
    "\n",
    "## Rotation angle (in deg) to get alongshore winds (see previous notebook)\n",
    "angle_up = 120. # upwelling favourable\n",
    "angle_down = 300. # downwelling favourable\n",
    "\n",
    "## Grid size\n",
    "nx = 448 \n",
    "ny = 512 \n",
    "lat_bot = 27.0 \n",
    "lat_top = 35.0 \n",
    "\n",
    "# filenames - 4 files created: 2 upw (zonal and meridional components), 2 downwelling (zonal and merid)\n",
    "run_desc = 'halfgauss2hr' # descriptive string to add to wind filename. \n",
    "                     # Final name is eg. upwelling_merid_gauss1d_160x224.bin saved in dir 160x224/"
   ]
  },
  {
   "cell_type": "markdown",
   "metadata": {},
   "source": [
    "### Make files"
   ]
  },
  {
   "cell_type": "code",
   "execution_count": 16,
   "metadata": {},
   "outputs": [
    {
     "name": "stdout",
     "output_type": "stream",
     "text": [
      "This is your half gaussian pulse\n",
      "0.00021874911181828853\n"
     ]
    },
    {
     "data": {
      "image/png": "[encoded data removed]",
      "text/plain": [
       "<Figure size 432x288 with 1 Axes>"
      ]
     },
     "metadata": {
      "needs_background": "light"
     },
     "output_type": "display_data"
    }
   ],
   "source": [
    "plt.plot(t,gauss,'-o')\n",
    "plt.xlabel('time / hrs')\n",
    "plt.ylabel(r'$\\tau_{||}$ / N m$^{-2}$')\n",
    "print('This is your half gaussian pulse')\n",
    "print(gauss[0])"
   ]
  },
  {
   "cell_type": "code",
   "execution_count": 27,
   "metadata": {},
   "outputs": [],
   "source": [
    "### Rotate winds\n",
    "windstress= np.expand_dims(np.expand_dims(gauss,0),0) + np.zeros((nx,ny,nt))\n",
    "\n",
    "alpha = np.radians(120.)\n",
    "alpha2 = np.radians(300.)\n",
    "\n",
    "zonal_tau = windstress*np.cos(alpha)\n",
    "merid_tau = windstress*np.sin(alpha)\n",
    "\n",
    "zonal_tau2 = windstress*np.cos(alpha2)\n",
    "merid_tau2 = windstress*np.sin(alpha2)\n",
    "\n",
    "cm = plt.pcolormesh(merid_tau[:,:,7], cmap=cmo.cm.balance)\n",
    "plt.colorbar(cm)"
   ]
  },
  {
   "cell_type": "code",
   "execution_count": 31,
   "metadata": {},
   "outputs": [
    {
     "data": {
      "text/plain": [
       "[<matplotlib.lines.Line2D at 0x7f6e70aebdc0>]"
      ]
     },
     "execution_count": 31,
     "metadata": {},
     "output_type": "execute_result"
    },
    {
     "data": {
      "image/png": "[encoded data removed]",
      "text/plain": [
       "<Figure size 432x288 with 1 Axes>"
      ]
     },
     "metadata": {
      "needs_background": "light"
     },
     "output_type": "display_data"
    }
   ],
   "source": [
    "plt.plot(merid_tau[30,30,:])\n",
    "plt.plot(merid_tau[10,10,:])"
   ]
  },
  {
   "cell_type": "code",
   "execution_count": 32,
   "metadata": {},
   "outputs": [
    {
     "ename": "FileNotFoundError",
     "evalue": "[Errno 2] No such file or directory: '448x512/downwelling_merid_sponge_halfgauss2hr_448x512.bin'",
     "output_type": "error",
     "traceback": [
      "\u001b[0;31m---------------------------------------------------------------------------\u001b[0m",
      "\u001b[0;31mFileNotFoundError\u001b[0m                         Traceback (most recent call last)",
      "\u001b[0;32m<ipython-input-32-8b72905a84f0>\u001b[0m in \u001b[0;36m<module>\u001b[0;34m\u001b[0m\n\u001b[1;32m      3\u001b[0m \u001b[0;34m\u001b[0m\u001b[0m\n\u001b[1;32m      4\u001b[0m \u001b[0mwind_fname1\u001b[0m \u001b[0;34m=\u001b[0m \u001b[0;34m'%dx%d/downwelling_merid_sponge_%s_%dx%d.bin'\u001b[0m \u001b[0;34m%\u001b[0m\u001b[0;34m(\u001b[0m\u001b[0mnx\u001b[0m\u001b[0;34m,\u001b[0m\u001b[0mny\u001b[0m\u001b[0;34m,\u001b[0m\u001b[0mrun_desc\u001b[0m\u001b[0;34m,\u001b[0m\u001b[0mnx\u001b[0m\u001b[0;34m,\u001b[0m\u001b[0mny\u001b[0m\u001b[0;34m)\u001b[0m\u001b[0;34m\u001b[0m\u001b[0;34m\u001b[0m\u001b[0m\n\u001b[0;32m----> 5\u001b[0;31m \u001b[0mfileobj\u001b[0m \u001b[0;34m=\u001b[0m \u001b[0mopen\u001b[0m\u001b[0;34m(\u001b[0m\u001b[0mwind_fname1\u001b[0m\u001b[0;34m,\u001b[0m \u001b[0mmode\u001b[0m\u001b[0;34m=\u001b[0m\u001b[0;34m'wb'\u001b[0m\u001b[0;34m)\u001b[0m\u001b[0;34m\u001b[0m\u001b[0;34m\u001b[0m\u001b[0m\n\u001b[0m\u001b[1;32m      6\u001b[0m \u001b[0mdd\u001b[0m\u001b[0;34m=\u001b[0m\u001b[0mmerid_tau\u001b[0m\u001b[0;34m.\u001b[0m\u001b[0mtranspose\u001b[0m\u001b[0;34m(\u001b[0m\u001b[0;34m(\u001b[0m\u001b[0;36m2\u001b[0m\u001b[0;34m,\u001b[0m\u001b[0;36m0\u001b[0m\u001b[0;34m,\u001b[0m\u001b[0;36m1\u001b[0m\u001b[0;34m)\u001b[0m\u001b[0;34m)\u001b[0m\u001b[0;34m\u001b[0m\u001b[0;34m\u001b[0m\u001b[0m\n\u001b[1;32m      7\u001b[0m \u001b[0mdd\u001b[0m\u001b[0;34m.\u001b[0m\u001b[0mastype\u001b[0m\u001b[0;34m(\u001b[0m\u001b[0mdt\u001b[0m\u001b[0;34m)\u001b[0m\u001b[0;34m.\u001b[0m\u001b[0mtofile\u001b[0m\u001b[0;34m(\u001b[0m\u001b[0mfileobj\u001b[0m\u001b[0;34m,\u001b[0m\u001b[0;34m\"\"\u001b[0m\u001b[0;34m)\u001b[0m\u001b[0;34m\u001b[0m\u001b[0;34m\u001b[0m\u001b[0m\n",
      "\u001b[0;31mFileNotFoundError\u001b[0m: [Errno 2] No such file or directory: '448x512/downwelling_merid_sponge_halfgauss2hr_448x512.bin'"
     ]
    }
   ],
   "source": [
    "### Write binary files\n",
    "dt = np.dtype('>f8')  # float 64 big endian\n",
    "\n",
    "wind_fname1 = '%dx%d/downwelling_%s_%dx%d.bin' %(nx,ny,run_desc,nx,ny)\n",
    "fileobj = open(wind_fname1, mode='wb')\n",
    "dd=merid_tau.transpose((2,0,1))\n",
    "dd.astype(dt).tofile(fileobj,\"\")\n",
    "fileobj.close()\n",
    "\n",
    "wind_fname2 = '%dx%d/downwelling_zonal_%s_%dx%d.bin' %(nx,ny,run_desc,nx,ny)\n",
    "fileobj = open(wind_fname2, mode='wb')\n",
    "dd=zonal_tau.transpose((2,0,1))\n",
    "dd.astype(dt).tofile(fileobj,\"\")\n",
    "fileobj.close()\n",
    "\n",
    "wind_fname3 = '%dx%d/upwelling_zonal_%s_%dx%d.bin' %(nx,ny,run_desc,nx,ny)\n",
    "fileobj = open(wind_fname3, mode='wb')\n",
    "dd=zonal_tau2.transpose((2,0,1))\n",
    "dd.astype(dt).tofile(fileobj,\"\")\n",
    "fileobj.close()\n",
    "\n",
    "wind_fname4 = '%dx%d/upwelling_merid_%s_%dx%d.bin' %(nx,ny,run_desc,nx,ny)\n",
    "fileobj = open(wind_fname4, mode='wb')\n",
    "dd=merid_tau2.transpose((2,0,1))\n",
    "dd.astype(dt).tofile(fileobj,\"\")\n",
    "fileobj.close()"
   ]
  },
  {
   "cell_type": "markdown",
   "metadata": {},
   "source": [
    "#### Check that bin file works when read by fortran"
   ]
  },
  {
   "cell_type": "code",
   "execution_count": 8,
   "metadata": {},
   "outputs": [
    {
     "name": "stdout",
     "output_type": "stream",
     "text": [
      "(27525120,)\n"
     ]
    },
    {
     "data": {
      "text/plain": [
       "<matplotlib.colorbar.Colorbar at 0x1227e9c50>"
      ]
     },
     "execution_count": 8,
     "metadata": {},
     "output_type": "execute_result"
    },
    {
     "data": {
      "image/png": "[encoded data removed]",
      "text/plain": [
       "<Figure size 360x360 with 2 Axes>"
      ]
     },
     "metadata": {
      "needs_background": "light"
     },
     "output_type": "display_data"
    }
   ],
   "source": [
    "cc=np.fromfile(wind_fname3, dtype=dt)\n",
    "print(np.shape(cc))\n",
    "\n",
    "bF=np.reshape(cc,[nx,ny,nt],'F') # F to read in Fortran order\n",
    "\n",
    "fig,ax = plt.subplots(1,1, figsize=(5,5))\n",
    "\n",
    "pc = ax.contourf(bF[:,:,20], 20, cmap=cmo.cm.balance)\n",
    "plt.colorbar(pc,ax=ax)"
   ]
  },
  {
   "cell_type": "code",
   "execution_count": 9,
   "metadata": {},
   "outputs": [
    {
     "data": {
      "text/plain": [
       "'448x512/downwelling_merid_halfgauss2hr_448x512.bin'"
      ]
     },
     "execution_count": 9,
     "metadata": {},
     "output_type": "execute_result"
    }
   ],
   "source": [
    "wind_fname1"
   ]
  },
  {
   "cell_type": "code",
   "execution_count": null,
   "metadata": {},
   "outputs": [],
   "source": []
  }
 ],
 "metadata": {
  "kernelspec": {
   "display_name": "Python 3",
   "language": "python",
   "name": "python3"
  },
  "language_info": {
   "codemirror_mode": {
    "name": "ipython",
    "version": 3
   },
   "file_extension": ".py",
   "mimetype": "text/x-python",
   "name": "python",
   "nbconvert_exporter": "python",
   "pygments_lexer": "ipython3",
   "version": "3.9.5"
  }
 },
 "nbformat": 4,
 "nbformat_minor": 4
}
