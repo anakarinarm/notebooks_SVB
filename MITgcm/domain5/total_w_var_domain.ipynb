{
 "cells": [
  {
   "cell_type": "markdown",
   "id": "81ab0592",
   "metadata": {},
   "source": [
    "Calculate var(w) in runs with and without bay over the whole domain"
   ]
  },
  {
   "cell_type": "code",
   "execution_count": 1,
   "id": "4f609f31",
   "metadata": {},
   "outputs": [],
   "source": [
    "import cmocean as cmo\n",
    "import matplotlib.pyplot as plt\n",
    "import matplotlib.patches as patches\n",
    "import matplotlib as mpl\n",
    "from matplotlib.gridspec import GridSpec\n",
    "from matplotlib.gridspec import GridSpecFromSubplotSpec\n",
    "%matplotlib inline\n",
    "import numpy as np\n",
    "import seaborn as sns\n",
    "import warnings\n",
    "warnings.filterwarnings('ignore')\n",
    "from xmitgcm import open_mdsdataset"
   ]
  },
  {
   "cell_type": "code",
   "execution_count": 2,
   "id": "1e8830f6",
   "metadata": {},
   "outputs": [],
   "source": [
    "outdir = '/data/SO2/sio-kramosmusalem/exp06_512x612x100_ORL_SVB/01_SVB_febTS_output/'\n",
    "outdir2 = '/data/SO2/sio-kramosmusalem/exp06_512x612x100_ORL/01_noSVB_febTS/'\n",
    "\n",
    "levels = [1,   2,  3,  4,  5,  6,  7,  8,  9, 10, \n",
    "          11, 12, 13, 14, 15, 16, 17,\n",
    "          18, 19, 20, 21, 22, 23, 24, 25,\n",
    "          26, 27, 28, 29, 30, 31,\n",
    "          32, 33, 34, 35, 36, 37, 38, 39, 40, 41, 42, 43, 44,\n",
    "          45, 46, 47, 48, 49, 50, 51, 52, 53, 54, 55, 56, 57,              \n",
    "          58, 59, 60, 61, 62, 63, 64, 65, 66, 67, 68, 69, 70, \n",
    "          74, 79, 84, 89, 94, 99,]\n",
    "ds = open_mdsdataset(outdir, prefix=['eta','dynVars'], levels=levels)\n",
    "ds2 = open_mdsdataset(outdir2, prefix=['eta','dynVars'], levels=levels)"
   ]
  },
  {
   "cell_type": "code",
   "execution_count": 3,
   "id": "6079c77a",
   "metadata": {},
   "outputs": [],
   "source": [
    "nx = 512\n",
    "ny = 612\n",
    "nz = 76\n",
    "dt = 600\n",
    "\n",
    "depth_nob = ds2.Depth[:]\n",
    "LAT = ds2['YC'][:]\n",
    "LON = ds2['XC'][:]-360\n",
    "lat = ds2.YC[:,0].data\n",
    "lon = ds2.XC[0,:].data-360\n",
    "\n",
    "Z = ds2['Z'][:]\n",
    "Zl = ds2['Zl'][:]\n",
    "\n",
    "# centers mask\n",
    "hFacC = ds2['hFacC'][:]\n",
    "hfac = np.ma.masked_values(hFacC, 0)\n",
    "mask = np.ma.getmask(hfac)\n",
    "dep_masked = np.ma.masked_values(depth_nob,0)\n",
    "mask_dep = np.ma.getmask(dep_masked)\n",
    "time = np.arange(0,720)*600\n",
    "\n",
    "# centers mask bathy with bay\n",
    "depth_bay = ds.Depth[:]\n",
    "hFacCSVB = ds['hFacC'][:]\n",
    "hfacSVB = np.ma.masked_values(hFacCSVB, 0)\n",
    "maskSVB = np.ma.getmask(hfacSVB)"
   ]
  },
  {
   "cell_type": "code",
   "execution_count": 4,
   "id": "b8d707ac",
   "metadata": {},
   "outputs": [],
   "source": [
    "# Cells volume array of domain\n",
    "rA_exp = np.expand_dims(ds2.rA,0)\n",
    "drF_exp = np.expand_dims(np.expand_dims(ds2.drF[:],1),1)\n",
    "rA_exp = rA_exp + np.zeros(ds2.hFacC[:,:,:].shape)\n",
    "drF_exp = drF_exp + np.zeros(ds2.hFacC[:,:,:].shape)"
   ]
  },
  {
   "cell_type": "code",
   "execution_count": 5,
   "id": "1eae818b",
   "metadata": {},
   "outputs": [],
   "source": [
    "def get_var_vol(ds, ds2, Volume_exp, tini, tend, mask, time, dt=600):\n",
    "    '''mask = 3D mask'''\n",
    "       \n",
    "    # Calculate variance Bay\n",
    "    mask_ext = np.expand_dims(mask[:,:,:],0)\n",
    "    mask_ext = mask_ext + np.zeros_like(ds.variables['WVEL'][tini:tend,...])\n",
    "    Wmean = np.nanmean(np.ma.masked_array(ds.variables['WVEL'][tini:tend,...],\n",
    "                                          mask=mask_ext),axis=0)\n",
    "    Wmean_ext = np.expand_dims(Wmean,0)\n",
    "    Wmean_ext = Wmean_ext + np.zeros_like(ds.variables['WVEL'][tini:tend,...])\n",
    "    \n",
    "    masked_W = np.ma.masked_array(ds.variables['WVEL'][tini:tend,...],mask=mask_ext)\n",
    "    var = dt*np.nansum((masked_W-Wmean_ext)**2,axis=0)/(time[tend]-time[tini])\n",
    "    \n",
    "    # Volume-weighted average Bay\n",
    "    int_var = np.nansum(var*Volume_exp)/np.nansum(Volume_exp)\n",
    "    \n",
    "    # Calculate variance No Bay\n",
    "    Wmean_nob = np.nanmean(np.ma.masked_array(ds2.variables['WVEL'][tini:tend,...],\n",
    "                                          mask=mask_ext),axis=0)\n",
    "    Wmean_nob_ext = np.expand_dims(Wmean_nob,0)\n",
    "    Wmean_nob_ext = Wmean_nob_ext + np.zeros_like(ds2.variables['WVEL'][tini:tend,...])\n",
    "    \n",
    "    masked_W_nob = np.ma.masked_array(ds2.variables['WVEL'][tini:tend,...],mask=mask_ext)\n",
    "    var_nob = dt*np.nansum((masked_W_nob-Wmean_nob_ext)**2,axis=0)/(time[tend]-time[tini])\n",
    "    \n",
    "    # Volume-weighted average No Bay\n",
    "    int_var_nob = np.nansum(var_nob*Volume_exp)/np.nansum(Volume_exp)\n",
    "    \n",
    "    # Difference\n",
    "    Wdif = (masked_W-Wmean_ext)-(masked_W_nob-Wmean_nob_ext)\n",
    "    var_diff = dt*np.nansum((Wdif)**2,axis=0)/(time[tend]-time[tini])\n",
    "    \n",
    "     # Volume-weighted average difference\n",
    "    int_diff = np.nansum(var_diff*Volume_exp)/np.nansum(Volume_exp)\n",
    "    \n",
    "    \n",
    "    return(int_var, int_var_nob, int_diff)"
   ]
  },
  {
   "cell_type": "code",
   "execution_count": 6,
   "id": "62fbeb25",
   "metadata": {},
   "outputs": [],
   "source": [
    "tini = 0\n",
    "tend = 144*1\n",
    "\n",
    "Volume = ds2.hFacC*drF_exp*rA_exp\n",
    "Volume_exp = np.expand_dims(Volume,0)\n",
    "Volume_exp = Volume_exp + np.zeros_like(ds.variables['WVEL'][tini:tend,...])\n",
    "\n",
    "int1_SVB_1d,int1_NB_1d,int1_dif_1d = get_var_vol(ds,ds2,Volume_exp, \n",
    "                                                 tini, tend, mask, time, dt=600)"
   ]
  },
  {
   "cell_type": "code",
   "execution_count": 7,
   "id": "82163797",
   "metadata": {
    "scrolled": true
   },
   "outputs": [],
   "source": [
    "tend = 144*2\n",
    "\n",
    "Volume_exp = np.expand_dims(Volume,0)\n",
    "Volume_exp = Volume_exp + np.zeros_like(ds.variables['WVEL'][tini:tend,...])\n",
    "\n",
    "int1_SVB_2d,int1_NB_2d,int1_dif_2d = get_var_vol(ds,ds2,Volume_exp, tini, tend, mask, time, dt=600)"
   ]
  },
  {
   "cell_type": "code",
   "execution_count": 8,
   "id": "0006aa1f",
   "metadata": {},
   "outputs": [],
   "source": [
    "tend = 144*3\n",
    "\n",
    "Volume_exp = np.expand_dims(Volume,0)\n",
    "Volume_exp = Volume_exp + np.zeros_like(ds.variables['WVEL'][tini:tend,...])\n",
    "\n",
    "int1_SVB_3d,int1_NB_3d,int1_dif_3d = get_var_vol(ds,ds2,Volume_exp, tini, tend, mask, time, dt=600)"
   ]
  },
  {
   "cell_type": "code",
   "execution_count": null,
   "id": "44b76a18",
   "metadata": {},
   "outputs": [],
   "source": [
    "tend = 144*5-1\n",
    "\n",
    "Volume_exp = np.expand_dims(Volume,0)\n",
    "Volume_exp = Volume_exp + np.zeros_like(ds.variables['WVEL'][tini:tend,...])\n",
    "\n",
    "int1_SVB_5d,int1_NB_5d,int1_dif_5d = get_var_vol(ds,ds2,Volume_exp, tini, tend, mask, time, dt=600)"
   ]
  },
  {
   "cell_type": "code",
   "execution_count": 56,
   "id": "e8c96c1d",
   "metadata": {},
   "outputs": [
    {
     "data": {
      "image/png": "[encoded data removed]",
      "text/plain": [
       "<Figure size 792x288 with 2 Axes>"
      ]
     },
     "metadata": {
      "needs_background": "light"
     },
     "output_type": "display_data"
    }
   ],
   "source": [
    "fig, (ax,ax1) = plt.subplots(1,2, figsize=(11,4))\n",
    "ax.plot([1,2,3,5], [int1_SVB_1d, int1_SVB_2d, int1_SVB_3d, int1_SVB_5d],'go',\n",
    "        markersize=8, label='Bay')\n",
    "ax.plot([1,2,3,5], [int1_NB_1d, int1_NB_2d, int1_NB_3d, int1_NB_5d],'o' ,color='lightgreen', \n",
    "        label='No Bay')\n",
    "\n",
    "ax.set_xlabel('days')\n",
    "ax.set_ylabel('$<w^2>$ (m$^2$ s$^{-2}$)')\n",
    "ax.set_title('Volume-weighted average of variance')\n",
    "ax.legend(bbox_to_anchor=(2,-0.18), ncol=4)\n",
    "\n",
    "ax1.plot([1,2,3,5], [100*int1_dif_1d/int1_NB_1d,100*int1_dif_2d/int1_NB_2d,100*int1_dif_3d/int1_NB_3d,100*int1_dif_5d/int1_NB_5d],'go')\n",
    "\n",
    "\n",
    "ax1.set_xlabel('days')\n",
    "ax1.set_title(r'(Bay - No Bay)/Bay')\n",
    "ax1.set_ylabel('%')\n",
    "ax1.set_title\n",
    "plt.show()\n"
   ]
  },
  {
   "cell_type": "code",
   "execution_count": 8,
   "id": "cab95d72",
   "metadata": {},
   "outputs": [
    {
     "data": {
      "text/plain": [
       "2.390522737037639e-09"
      ]
     },
     "execution_count": 8,
     "metadata": {},
     "output_type": "execute_result"
    }
   ],
   "source": [
    "int1_SVB_1d"
   ]
  },
  {
   "cell_type": "code",
   "execution_count": 12,
   "id": "aadd5b6f",
   "metadata": {},
   "outputs": [
    {
     "data": {
      "text/plain": [
       "2.3895515253480043e-09"
      ]
     },
     "execution_count": 12,
     "metadata": {},
     "output_type": "execute_result"
    }
   ],
   "source": [
    "int1_NB_1d"
   ]
  },
  {
   "cell_type": "code",
   "execution_count": 10,
   "id": "916d5861",
   "metadata": {},
   "outputs": [
    {
     "data": {
      "text/plain": [
       "1.8457533970480754e-12"
      ]
     },
     "execution_count": 10,
     "metadata": {},
     "output_type": "execute_result"
    }
   ],
   "source": [
    "int1_dif_1d"
   ]
  },
  {
   "cell_type": "code",
   "execution_count": 14,
   "id": "aa9865ed",
   "metadata": {},
   "outputs": [
    {
     "data": {
      "text/plain": [
       "0.07724266990975504"
      ]
     },
     "execution_count": 14,
     "metadata": {},
     "output_type": "execute_result"
    }
   ],
   "source": [
    "(int1_dif_1d/int1_NB_1d)*100"
   ]
  },
  {
   "cell_type": "code",
   "execution_count": null,
   "id": "2b5f73e0",
   "metadata": {},
   "outputs": [],
   "source": []
  }
 ],
 "metadata": {
  "kernelspec": {
   "display_name": "Python 3",
   "language": "python",
   "name": "python3"
  },
  "language_info": {
   "codemirror_mode": {
    "name": "ipython",
    "version": 3
   },
   "file_extension": ".py",
   "mimetype": "text/x-python",
   "name": "python",
   "nbconvert_exporter": "python",
   "pygments_lexer": "ipython3",
   "version": "3.9.5"
  }
 },
 "nbformat": 4,
 "nbformat_minor": 5
}
