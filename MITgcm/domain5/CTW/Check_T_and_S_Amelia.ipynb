{
 "cells": [
  {
   "cell_type": "code",
   "execution_count": 5,
   "id": "55402f2e",
   "metadata": {},
   "outputs": [],
   "source": [
    "from xmitgcm import open_mdsdataset\n",
    "# from MITgcmutils import rdmds\n",
    "# from MITgcmutils import mds\n",
    "# from MITgcmutils import diagnostics\n",
    "import numpy as np\n",
    "import matplotlib.pyplot as plt\n",
    "# import matplotlib.dates as dat\n",
    "# from matplotlib.gridspec import GridSpec\n",
    "# from matplotlib import cm\n",
    "# import xarray as xr\n",
    "import cmocean\n",
    "# import time \n",
    "# import pylab as pl\n",
    "# import IPython\n",
    "# from IPython import display\n",
    "# from matplotlib.animation import FuncAnimation\n",
    "# from matplotlib import animation\n",
    "# from math import radians, cos, sin, asin, sqrt\n",
    "# import netCDF4 as nc\n",
    "# from scipy.io import savemat\n",
    "# import scipy as sc\n",
    "# import scipy.io as sio\n",
    "# import scipy.signal as sig\n",
    "# import statistics as stat\n",
    "# import datetime\n",
    "import warnings\n",
    "warnings.filterwarnings(\"ignore\")"
   ]
  },
  {
   "cell_type": "code",
   "execution_count": 7,
   "id": "b273fe80",
   "metadata": {},
   "outputs": [],
   "source": [
    "outdirw = '/data/SO2/sio-kramosmusalem/exp06_512x612x100_ORL_SVB/01_SVB_febTS_output/'\n",
    "outdirn = '/data/SO2/sio-kramosmusalem/exp06_512x612x100_ORL/01_noSVB_febTS/'\n",
    "\n",
    "iters = np.arange(7200,14400,20)\n",
    "levels = [1,   2,  3,  4,  5,  6,  7,  8,  9, 10, \n",
    "          11, 12, 13, 14, 15, 16, 17,\n",
    "          18, 19, 20, 21, 22, 23, 24, 25,\n",
    "          26, 27, 28, 29, 30, 31,\n",
    "          32, 33, 34, 35, 36, 37, 38, 39, 40, 41, 42, 43, 44,\n",
    "          45, 46, 47, 48, 49, 50, 51, 52, 53, 54, 55, 56, 57,              \n",
    "          58, 59, 60, 61, 62, 63, 64, 65, 66, 67, 68, 69, 70, \n",
    "          74, 79, 84, 89, 94, 99,]\n",
    "ds = open_mdsdataset(outdirw, prefix=['dynVars'], levels=levels, iters=iters)\n",
    "ds2 = open_mdsdataset(outdirn, prefix=['dynVars'], levels=levels, iters=iters)"
   ]
  },
  {
   "cell_type": "code",
   "execution_count": 10,
   "id": "71ebb4d8",
   "metadata": {},
   "outputs": [
    {
     "data": {
      "text/plain": [
       "[<matplotlib.lines.Line2D at 0x7f6839e75190>]"
      ]
     },
     "execution_count": 10,
     "metadata": {},
     "output_type": "execute_result"
    },
    {
     "data": {
      "image/png": "[encoded data removed]",
      "text/plain": [
       "<Figure size 432x288 with 1 Axes>"
      ]
     },
     "metadata": {
      "needs_background": "light"
     },
     "output_type": "display_data"
    }
   ],
   "source": [
    "plt.plot(ds.SALT[20,:,100,100].values)"
   ]
  },
  {
   "cell_type": "code",
   "execution_count": null,
   "id": "53a6a0f6",
   "metadata": {},
   "outputs": [],
   "source": []
  },
  {
   "cell_type": "code",
   "execution_count": null,
   "id": "954b58b3",
   "metadata": {},
   "outputs": [],
   "source": []
  }
 ],
 "metadata": {
  "kernelspec": {
   "display_name": "Python 3",
   "language": "python",
   "name": "python3"
  },
  "language_info": {
   "codemirror_mode": {
    "name": "ipython",
    "version": 3
   },
   "file_extension": ".py",
   "mimetype": "text/x-python",
   "name": "python",
   "nbconvert_exporter": "python",
   "pygments_lexer": "ipython3",
   "version": "3.9.5"
  }
 },
 "nbformat": 4,
 "nbformat_minor": 5
}
