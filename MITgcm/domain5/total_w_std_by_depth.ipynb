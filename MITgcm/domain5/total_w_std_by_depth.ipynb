{
 "cells": [
  {
   "cell_type": "markdown",
   "id": "81ab0592",
   "metadata": {},
   "source": [
    "Calculate std(w) in runs with and without bay at particular depths"
   ]
  },
  {
   "cell_type": "code",
   "execution_count": 1,
   "id": "4f609f31",
   "metadata": {},
   "outputs": [],
   "source": [
    "import cmocean as cmo\n",
    "import matplotlib.pyplot as plt\n",
    "import matplotlib.patches as patches\n",
    "import matplotlib as mpl\n",
    "from matplotlib.gridspec import GridSpec\n",
    "from matplotlib.gridspec import GridSpecFromSubplotSpec\n",
    "%matplotlib inline\n",
    "import numpy as np\n",
    "import seaborn as sns\n",
    "import warnings\n",
    "warnings.filterwarnings('ignore')\n",
    "from xmitgcm import open_mdsdataset"
   ]
  },
  {
   "cell_type": "code",
   "execution_count": 2,
   "id": "1e8830f6",
   "metadata": {},
   "outputs": [],
   "source": [
    "outdir = '/data/SO2/sio-kramosmusalem/exp06_512x612x100_ORL_SVB/01_SVB_febTS_output/'\n",
    "outdir2 = '/data/SO2/sio-kramosmusalem/exp06_512x612x100_ORL/01_noSVB_febTS/'\n",
    "\n",
    "levels = [1,   2,  3,  4,  5,  6,  7,  8,  9, 10, \n",
    "          11, 12, 13, 14, 15, 16, 17,\n",
    "          18, 19, 20, 21, 22, 23, 24, 25,\n",
    "          26, 27, 28, 29, 30, 31,\n",
    "          32, 33, 34, 35, 36, 37, 38, 39, 40, 41, 42, 43, 44,\n",
    "          45, 46, 47, 48, 49, 50, 51, 52, 53, 54, 55, 56, 57,              \n",
    "          58, 59, 60, 61, 62, 63, 64, 65, 66, 67, 68, 69, 70, \n",
    "          74, 79, 84, 89, 94, 99,]\n",
    "ds = open_mdsdataset(outdir, prefix=['eta','dynVars'], levels=levels)\n",
    "ds2 = open_mdsdataset(outdir2, prefix=['eta','dynVars'], levels=levels)"
   ]
  },
  {
   "cell_type": "code",
   "execution_count": 29,
   "id": "6079c77a",
   "metadata": {},
   "outputs": [],
   "source": [
    "nx = 512\n",
    "ny = 612\n",
    "nz = 76\n",
    "dt = 600\n",
    "z1 = 25 # Zl[25] = -99 m\n",
    "z2 = 37 # Zl[37] = -197.2 m\n",
    "z3 = 45 # Zl[45] = -292.2 m\n",
    "z4 = 55 # Zl[55] = -508.2 m\n",
    "\n",
    "depth_nob = ds2.Depth[:]\n",
    "LAT = ds2['YC'][:]\n",
    "LON = ds2['XC'][:]-360\n",
    "lat = ds2.YC[:,0].data\n",
    "lon = ds2.XC[0,:].data-360\n",
    "\n",
    "Z = ds2['Z'][:]\n",
    "Zl = ds2['Zl'][:]\n",
    "\n",
    "# centers mask\n",
    "hFacC = ds2['hFacC'][:]\n",
    "hfac = np.ma.masked_values(hFacC, 0)\n",
    "mask = np.ma.getmask(hfac)\n",
    "dep_masked = np.ma.masked_values(depth_nob,0)\n",
    "mask_dep = np.ma.getmask(dep_masked)\n",
    "time = np.arange(0,720)*600\n",
    "\n",
    "# centers mask bathy with bay\n",
    "depth_bay = ds.Depth[:]\n",
    "hFacCSVB = ds['hFacC'][:]\n",
    "hfacSVB = np.ma.masked_values(hFacCSVB, 0)\n",
    "maskSVB = np.ma.getmask(hfacSVB)"
   ]
  },
  {
   "cell_type": "code",
   "execution_count": null,
   "id": "1eae818b",
   "metadata": {},
   "outputs": [],
   "source": []
  },
  {
   "cell_type": "markdown",
   "id": "4c7b09cd",
   "metadata": {},
   "source": [
    "### No bay run"
   ]
  },
  {
   "cell_type": "code",
   "execution_count": 31,
   "id": "2609ce27",
   "metadata": {},
   "outputs": [],
   "source": [
    "tini = 0\n",
    "tend = 144\n",
    "\n",
    "Wacc100 = np.empty((ny,nx))\n",
    "Wacc200 = np.empty((ny,nx))\n",
    "Wacc300 = np.empty((ny,nx))\n",
    "Wacc500 = np.empty((ny,nx))\n",
    "\n",
    "for tt in range(tini,tend):\n",
    "    W1 = np.ma.masked_array(ds2.variables['WVEL'][tt,z1,...], mask=mask[z1,:,:])\n",
    "    Wacc100 = Wacc100 + W1**2   \n",
    "    \n",
    "    W2 = np.ma.masked_array(ds2.variables['WVEL'][tt,z2,...], mask=mask[z2,:,:])\n",
    "    Wacc200 = Wacc200 + W2**2   \n",
    "   \n",
    "    W3 = np.ma.masked_array(ds2.variables['WVEL'][tt,z3,...], mask=mask[z3,:,:])\n",
    "    Wacc300 = Wacc300 + W3**2   \n",
    "   \n",
    "    W4 = np.ma.masked_array(ds2.variables['WVEL'][tt,z4,...], mask=mask[z4,:,:])\n",
    "    Wacc500 = Wacc500 + W4**2   "
   ]
  },
  {
   "cell_type": "code",
   "execution_count": 32,
   "id": "84d90645",
   "metadata": {},
   "outputs": [
    {
     "data": {
      "text/plain": [
       "1.5936005367885776e-06"
      ]
     },
     "execution_count": 32,
     "metadata": {},
     "output_type": "execute_result"
    }
   ],
   "source": [
    "VarNoB1 = np.nansum((Wacc100*dt))/(time[tend]-time[tini])\n",
    "\n",
    "VarNoB2 = np.nansum((Wacc200*dt))/(time[tend]-time[tini])\n",
    "\n",
    "VarNoB3 = np.nansum((Wacc300*dt))/(time[tend]-time[tini])\n",
    "\n",
    "VarNoB4 = np.nansum((Wacc500*dt))/(time[tend]-time[tini])"
   ]
  },
  {
   "cell_type": "code",
   "execution_count": 33,
   "id": "a2d7a14f",
   "metadata": {},
   "outputs": [],
   "source": [
    "tend2 = 288\n",
    "for tt in range(tend,tend2):\n",
    "    W1 = np.ma.masked_array(ds2.variables['WVEL'][tt,z1,...], mask=mask[z1,:,:])\n",
    "    Wacc100 = Wacc100 + W1**2   \n",
    "    \n",
    "    W2 = np.ma.masked_array(ds2.variables['WVEL'][tt,z2,...], mask=mask[z2,:,:])\n",
    "    Wacc200 = Wacc200 + W2**2   \n",
    "   \n",
    "    W3 = np.ma.masked_array(ds2.variables['WVEL'][tt,z3,...], mask=mask[z3,:,:])\n",
    "    Wacc300 = Wacc300 + W3**2   \n",
    "   \n",
    "    W4 = np.ma.masked_array(ds2.variables['WVEL'][tt,z4,...], mask=mask[z4,:,:])\n",
    "    Wacc500 = Wacc500 + W4**2   "
   ]
  },
  {
   "cell_type": "code",
   "execution_count": 34,
   "id": "2a4ac632",
   "metadata": {},
   "outputs": [
    {
     "data": {
      "text/plain": [
       "1.6776544791920499e-06"
      ]
     },
     "execution_count": 34,
     "metadata": {},
     "output_type": "execute_result"
    }
   ],
   "source": [
    "VarNoB1_2d = np.nansum((Wacc100*dt))/(time[tend2]-time[tini])\n",
    "VarNoB1_2d\n",
    "\n",
    "VarNoB2_2d = np.nansum((Wacc200*dt))/(time[tend2]-time[tini])\n",
    "VarNoB2_2d\n",
    "\n",
    "VarNoB3_2d = np.nansum((Wacc300*dt))/(time[tend2]-time[tini])\n",
    "VarNoB3_2d\n",
    "\n",
    "VarNoB4_2d = np.nansum((Wacc500*dt))/(time[tend2]-time[tini])\n",
    "VarNoB4_2d"
   ]
  },
  {
   "cell_type": "code",
   "execution_count": 36,
   "id": "d18c2b54",
   "metadata": {},
   "outputs": [],
   "source": [
    "tend3 = 144*3\n",
    "for tt in range(tend2,tend3):\n",
    "    W1 = np.ma.masked_array(ds2.variables['WVEL'][tt,z1,...], mask=mask[z1,:,:])\n",
    "    Wacc100 = Wacc100 + W1**2   \n",
    "    \n",
    "    W2 = np.ma.masked_array(ds2.variables['WVEL'][tt,z2,...], mask=mask[z2,:,:])\n",
    "    Wacc200 = Wacc200 + W2**2   \n",
    "   \n",
    "    W3 = np.ma.masked_array(ds2.variables['WVEL'][tt,z3,...], mask=mask[z3,:,:])\n",
    "    Wacc300 = Wacc300 + W3**2   \n",
    "   \n",
    "    W4 = np.ma.masked_array(ds2.variables['WVEL'][tt,z4,...], mask=mask[z4,:,:])\n",
    "    Wacc500 = Wacc500 + W4**2     "
   ]
  },
  {
   "cell_type": "code",
   "execution_count": 37,
   "id": "a790bc6b",
   "metadata": {},
   "outputs": [
    {
     "data": {
      "text/plain": [
       "2.069777819203979e-06"
      ]
     },
     "execution_count": 37,
     "metadata": {},
     "output_type": "execute_result"
    }
   ],
   "source": [
    "VarNoB1_3d = np.nansum((Wacc100*dt))/(time[tend3]-time[tini])\n",
    "VarNoB1_3d\n",
    "\n",
    "VarNoB2_3d = np.nansum((Wacc200*dt))/(time[tend3]-time[tini])\n",
    "VarNoB2_3d\n",
    "\n",
    "VarNoB3_3d = np.nansum((Wacc300*dt))/(time[tend3]-time[tini])\n",
    "VarNoB3_3d\n",
    "\n",
    "VarNoB4_3d = np.nansum((Wacc500*dt))/(time[tend3]-time[tini])\n",
    "VarNoB4_3d"
   ]
  },
  {
   "cell_type": "code",
   "execution_count": 38,
   "id": "80f60cf1",
   "metadata": {},
   "outputs": [],
   "source": [
    "tend4 = (144*5)-1\n",
    "for tt in range(tend3,tend4):\n",
    "    W1 = np.ma.masked_array(ds2.variables['WVEL'][tt,z1,...], mask=mask[z1,:,:])\n",
    "    Wacc100 = Wacc100 + W1**2   \n",
    "    \n",
    "    W2 = np.ma.masked_array(ds2.variables['WVEL'][tt,z2,...], mask=mask[z2,:,:])\n",
    "    Wacc200 = Wacc200 + W2**2   \n",
    "   \n",
    "    W3 = np.ma.masked_array(ds2.variables['WVEL'][tt,z3,...], mask=mask[z3,:,:])\n",
    "    Wacc300 = Wacc300 + W3**2   \n",
    "   \n",
    "    W4 = np.ma.masked_array(ds2.variables['WVEL'][tt,z4,...], mask=mask[z4,:,:])\n",
    "    Wacc500 = Wacc500 + W4**2   "
   ]
  },
  {
   "cell_type": "code",
   "execution_count": 39,
   "id": "54b32d7e",
   "metadata": {},
   "outputs": [
    {
     "data": {
      "text/plain": [
       "1.7163328831535624e-06"
      ]
     },
     "execution_count": 39,
     "metadata": {},
     "output_type": "execute_result"
    }
   ],
   "source": [
    "VarNoB1_5d = np.nansum((Wacc100*dt))/(time[tend4-1]-time[tini])\n",
    "VarNoB1_5d\n",
    "\n",
    "VarNoB2_5d = np.nansum((Wacc200*dt))/(time[tend4-1]-time[tini])\n",
    "VarNoB2_5d\n",
    "\n",
    "VarNoB3_5d = np.nansum((Wacc300*dt))/(time[tend4-1]-time[tini])\n",
    "VarNoB3_5d\n",
    "\n",
    "VarNoB4_5d = np.nansum((Wacc500*dt))/(time[tend4-1]-time[tini])\n",
    "VarNoB4_5d"
   ]
  },
  {
   "cell_type": "markdown",
   "id": "0d9d5acb",
   "metadata": {},
   "source": [
    "### Run with SVB"
   ]
  },
  {
   "cell_type": "code",
   "execution_count": 40,
   "id": "bf292e59",
   "metadata": {},
   "outputs": [],
   "source": [
    "Wacc100 = np.empty((ny,nx))\n",
    "Wacc200 = np.empty((ny,nx))\n",
    "Wacc300 = np.empty((ny,nx))\n",
    "Wacc500 = np.empty((ny,nx))\n",
    "\n",
    "for tt in range(tini,tend):\n",
    "    W1 = np.ma.masked_array(ds.variables['WVEL'][tt,z1,...], mask=mask[z1,:,:])\n",
    "    Wacc100 = Wacc100 + W1**2   \n",
    "    \n",
    "    W2 = np.ma.masked_array(ds.variables['WVEL'][tt,z2,...], mask=mask[z2,:,:])\n",
    "    Wacc200 = Wacc200 + W2**2   \n",
    "   \n",
    "    W3 = np.ma.masked_array(ds.variables['WVEL'][tt,z3,...], mask=mask[z3,:,:])\n",
    "    Wacc300 = Wacc300 + W3**2   \n",
    "   \n",
    "    W4 = np.ma.masked_array(ds.variables['WVEL'][tt,z4,...], mask=mask[z4,:,:])\n",
    "    Wacc500 = Wacc500 + W4**2   "
   ]
  },
  {
   "cell_type": "code",
   "execution_count": 41,
   "id": "66d69c3c",
   "metadata": {},
   "outputs": [
    {
     "data": {
      "text/plain": [
       "4.812228494807618e-06"
      ]
     },
     "execution_count": 41,
     "metadata": {},
     "output_type": "execute_result"
    }
   ],
   "source": [
    "VarBay1 = np.nansum((Wacc100*dt))/(time[tend]-time[tini])\n",
    "VarBay1\n",
    "\n",
    "VarBay2 = np.nansum((Wacc200*dt))/(time[tend]-time[tini])\n",
    "VarBay2\n",
    "\n",
    "VarBay3 = np.nansum((Wacc300*dt))/(time[tend]-time[tini])\n",
    "VarBay3\n",
    "\n",
    "VarBay4 = np.nansum((Wacc500*dt))/(time[tend]-time[tini])\n",
    "VarBay4"
   ]
  },
  {
   "cell_type": "code",
   "execution_count": 42,
   "id": "156336fb",
   "metadata": {},
   "outputs": [],
   "source": [
    "for tt in range(tend,tend2):\n",
    "    W1 = np.ma.masked_array(ds.variables['WVEL'][tt,z1,...], mask=mask[z1,:,:])\n",
    "    Wacc100 = Wacc100 + W1**2   \n",
    "    \n",
    "    W2 = np.ma.masked_array(ds.variables['WVEL'][tt,z2,...], mask=mask[z2,:,:])\n",
    "    Wacc200 = Wacc200 + W2**2   \n",
    "   \n",
    "    W3 = np.ma.masked_array(ds.variables['WVEL'][tt,z3,...], mask=mask[z3,:,:])\n",
    "    Wacc300 = Wacc300 + W3**2   \n",
    "   \n",
    "    W4 = np.ma.masked_array(ds.variables['WVEL'][tt,z4,...], mask=mask[z4,:,:])\n",
    "    Wacc500 = Wacc500 + W4**2   "
   ]
  },
  {
   "cell_type": "code",
   "execution_count": 43,
   "id": "65f3db8d",
   "metadata": {},
   "outputs": [
    {
     "data": {
      "text/plain": [
       "3.4028499452136277e-06"
      ]
     },
     "execution_count": 43,
     "metadata": {},
     "output_type": "execute_result"
    }
   ],
   "source": [
    "VarBay1_2d = np.nansum((Wacc100*dt))/(time[tend2]-time[tini])\n",
    "VarBay1_2d\n",
    "\n",
    "VarBay2_2d = np.nansum((Wacc200*dt))/(time[tend2]-time[tini])\n",
    "VarBay2_2d\n",
    "\n",
    "VarBay3_2d = np.nansum((Wacc300*dt))/(time[tend2]-time[tini])\n",
    "VarBay3_2d\n",
    "\n",
    "VarBay4_2d = np.nansum((Wacc500*dt))/(time[tend2]-time[tini])\n",
    "VarBay4_2d"
   ]
  },
  {
   "cell_type": "code",
   "execution_count": 44,
   "id": "202324f8",
   "metadata": {},
   "outputs": [],
   "source": [
    "for tt in range(tend2,tend3):\n",
    "    W1 = np.ma.masked_array(ds.variables['WVEL'][tt,z1,...], mask=mask[z1,:,:])\n",
    "    Wacc100 = Wacc100 + W1**2   \n",
    "    \n",
    "    W2 = np.ma.masked_array(ds.variables['WVEL'][tt,z2,...], mask=mask[z2,:,:])\n",
    "    Wacc200 = Wacc200 + W2**2   \n",
    "   \n",
    "    W3 = np.ma.masked_array(ds.variables['WVEL'][tt,z3,...], mask=mask[z3,:,:])\n",
    "    Wacc300 = Wacc300 + W3**2   \n",
    "   \n",
    "    W4 = np.ma.masked_array(ds.variables['WVEL'][tt,z4,...], mask=mask[z4,:,:])\n",
    "    Wacc500 = Wacc500 + W4**2   "
   ]
  },
  {
   "cell_type": "code",
   "execution_count": 45,
   "id": "1e3d59de",
   "metadata": {},
   "outputs": [
    {
     "data": {
      "text/plain": [
       "2.7756251047855046e-06"
      ]
     },
     "execution_count": 45,
     "metadata": {},
     "output_type": "execute_result"
    }
   ],
   "source": [
    "VarBay1_3d = np.nansum((Wacc100*dt))/(time[tend3]-time[tini])\n",
    "VarBay1_3d\n",
    "\n",
    "VarBay2_3d = np.nansum((Wacc200*dt))/(time[tend3]-time[tini])\n",
    "VarBay2_3d\n",
    "\n",
    "VarBay3_3d = np.nansum((Wacc300*dt))/(time[tend3]-time[tini])\n",
    "VarBay3_3d\n",
    "\n",
    "VarBay4_3d = np.nansum((Wacc500*dt))/(time[tend3]-time[tini])\n",
    "VarBay4_3d"
   ]
  },
  {
   "cell_type": "code",
   "execution_count": 46,
   "id": "b8b3ffb9",
   "metadata": {},
   "outputs": [],
   "source": [
    "for tt in range(tend3,tend4):\n",
    "    W1 = np.ma.masked_array(ds.variables['WVEL'][tt,z1,...], mask=mask[z1,:,:])\n",
    "    Wacc100 = Wacc100 + W1**2   \n",
    "    \n",
    "    W2 = np.ma.masked_array(ds.variables['WVEL'][tt,z2,...], mask=mask[z2,:,:])\n",
    "    Wacc200 = Wacc200 + W2**2   \n",
    "   \n",
    "    W3 = np.ma.masked_array(ds.variables['WVEL'][tt,z3,...], mask=mask[z3,:,:])\n",
    "    Wacc300 = Wacc300 + W3**2   \n",
    "   \n",
    "    W4 = np.ma.masked_array(ds.variables['WVEL'][tt,z4,...], mask=mask[z4,:,:])\n",
    "    Wacc500 = Wacc500 + W4**2   "
   ]
  },
  {
   "cell_type": "code",
   "execution_count": 47,
   "id": "7d20613d",
   "metadata": {},
   "outputs": [
    {
     "data": {
      "text/plain": [
       "2.1467658026259673e-06"
      ]
     },
     "execution_count": 47,
     "metadata": {},
     "output_type": "execute_result"
    }
   ],
   "source": [
    "VarBay1_5d = np.nansum((Wacc100*dt))/(time[tend4-1]-time[tini])\n",
    "VarBay1_5d\n",
    "\n",
    "VarBay2_5d = np.nansum((Wacc200*dt))/(time[tend4-1]-time[tini])\n",
    "VarBay2_5d\n",
    "\n",
    "VarBay3_5d = np.nansum((Wacc300*dt))/(time[tend4-1]-time[tini])\n",
    "VarBay3_5d\n",
    "\n",
    "VarBay4_5d = np.nansum((Wacc500*dt))/(time[tend4-1]-time[tini])\n",
    "VarBay4_5d"
   ]
  },
  {
   "cell_type": "markdown",
   "id": "0cdfebeb",
   "metadata": {},
   "source": [
    "### Proportion"
   ]
  },
  {
   "cell_type": "code",
   "execution_count": 49,
   "id": "334641ab",
   "metadata": {},
   "outputs": [
    {
     "data": {
      "text/plain": [
       "25.078638514548203"
      ]
     },
     "execution_count": 49,
     "metadata": {},
     "output_type": "execute_result"
    }
   ],
   "source": [
    "perc1 = ((VarBay1-VarNoB1)/VarNoB1)*100\n",
    "perc1\n",
    "perc1_2d = ((VarBay1_2d-VarNoB1_2d)/VarNoB1_2d)*100\n",
    "perc1_2d\n",
    "perc1_3d = ((VarBay1_3d-VarNoB1_3d)/VarNoB1_3d)*100\n",
    "perc1_3d\n",
    "perc1_5d = ((VarBay1_5d-VarNoB1_5d)/VarNoB1_5d)*100\n",
    "perc1_5d\n",
    "\n",
    "perc2 = ((VarBay2-VarNoB2)/VarNoB2)*100\n",
    "perc2\n",
    "perc2_2d = ((VarBay2_2d-VarNoB2_2d)/VarNoB2_2d)*100\n",
    "perc2_2d\n",
    "perc2_3d = ((VarBay2_3d-VarNoB2_3d)/VarNoB2_3d)*100\n",
    "perc2_3d\n",
    "perc2_5d = ((VarBay2_5d-VarNoB2_5d)/VarNoB2_5d)*100\n",
    "perc2_5d\n",
    "\n",
    "perc3 = ((VarBay3-VarNoB3)/VarNoB3)*100\n",
    "perc3\n",
    "perc3_2d = ((VarBay3_2d-VarNoB3_2d)/VarNoB3_2d)*100\n",
    "perc3_2d\n",
    "perc3_3d = ((VarBay3_3d-VarNoB3_3d)/VarNoB3_3d)*100\n",
    "perc3_3d\n",
    "perc3_5d = ((VarBay3_5d-VarNoB3_5d)/VarNoB3_5d)*100\n",
    "perc3_5d\n",
    "\n",
    "perc4 = ((VarBay4-VarNoB4)/VarNoB4)*100\n",
    "perc4\n",
    "perc4_2d = ((VarBay4_2d-VarNoB4_2d)/VarNoB4_2d)*100\n",
    "perc4_2d\n",
    "perc4_3d = ((VarBay4_3d-VarNoB4_3d)/VarNoB4_3d)*100\n",
    "perc4_3d\n",
    "perc4_5d = ((VarBay4_5d-VarNoB4_5d)/VarNoB4_5d)*100\n",
    "perc4_5d"
   ]
  },
  {
   "cell_type": "code",
   "execution_count": 53,
   "id": "9ad183c1",
   "metadata": {},
   "outputs": [],
   "source": [
    "def plot_var(var_bay, var_nobay, percentages, layer_depth):\n",
    "    fig, (ax,ax1) = plt.subplots(1,2, figsize=(9,3))\n",
    "    ax.plot([1,2,3,5],var_bay ,'go',markersize=8, label='Bay')\n",
    "    ax.plot([1,2,3,5],var_nobay ,'o' ,color='lightgreen', \n",
    "            label='No Bay')\n",
    "    ax.set_xlabel('days')\n",
    "    ax.set_ylabel('$<w^2>$ (m$^2$ s$^{-2}$)')\n",
    "    ax.set_title('Total w variance at %1.1f m' %layer_depth)\n",
    "    ax.legend()\n",
    "\n",
    "    ax1.plot([1,2,3,5],percentages ,'o', color='0.2')\n",
    "    ax1.set_xlabel('days')\n",
    "    ax1.set_ylabel(r'($<w_{bay}^2>$-$<w_{noBay}^2>$)/$<w_{noBay}^2>$ %')\n",
    "    ax1.set_title('Difference bay - no bay at %1.1f m' %layer_depth)\n",
    "    plt.tight_layout()\n",
    "    return(ax,ax1)"
   ]
  },
  {
   "cell_type": "code",
   "execution_count": 54,
   "id": "e3606117",
   "metadata": {},
   "outputs": [
    {
     "data": {
      "image/png": "[encoded data removed]",
      "text/plain": [
       "<Figure size 648x216 with 2 Axes>"
      ]
     },
     "metadata": {
      "needs_background": "light"
     },
     "output_type": "display_data"
    }
   ],
   "source": [
    "var_bay = [VarBay1, VarBay1_2d, VarBay1_3d, VarBay1_5d]\n",
    "var_nobay = [VarNoB1, VarNoB1_2d, VarNoB1_3d, VarNoB1_5d]\n",
    "percentages = [perc1, perc1_2d, perc1_3d, perc1_5d]\n",
    "layer_depth = Zl[z1]\n",
    "ax,ax1 = plot_var(var_bay, var_nobay, percentages, layer_depth)"
   ]
  },
  {
   "cell_type": "code",
   "execution_count": 55,
   "id": "778d8aa8",
   "metadata": {},
   "outputs": [
    {
     "data": {
      "image/png": "[encoded data removed]",
      "text/plain": [
       "<Figure size 648x216 with 2 Axes>"
      ]
     },
     "metadata": {
      "needs_background": "light"
     },
     "output_type": "display_data"
    }
   ],
   "source": [
    "var_bay = [VarBay2, VarBay2_2d, VarBay2_3d, VarBay2_5d]\n",
    "var_nobay = [VarNoB2, VarNoB2_2d, VarNoB2_3d, VarNoB2_5d]\n",
    "percentages = [perc2, perc2_2d, perc2_3d, perc2_5d]\n",
    "layer_depth = Zl[z2]\n",
    "ax,ax1 = plot_var(var_bay, var_nobay, percentages, layer_depth)"
   ]
  },
  {
   "cell_type": "code",
   "execution_count": 56,
   "id": "57f8f5a2",
   "metadata": {},
   "outputs": [
    {
     "data": {
      "image/png": "[encoded data removed]",
      "text/plain": [
       "<Figure size 648x216 with 2 Axes>"
      ]
     },
     "metadata": {
      "needs_background": "light"
     },
     "output_type": "display_data"
    }
   ],
   "source": [
    "var_bay = [VarBay3, VarBay3_2d, VarBay3_3d, VarBay3_5d]\n",
    "var_nobay = [VarNoB3, VarNoB3_2d, VarNoB3_3d, VarNoB3_5d]\n",
    "percentages = [perc3, perc3_2d, perc3_3d, perc3_5d]\n",
    "layer_depth = Zl[z3]\n",
    "ax,ax1 = plot_var(var_bay, var_nobay, percentages, layer_depth)"
   ]
  },
  {
   "cell_type": "code",
   "execution_count": 57,
   "id": "1e474d77",
   "metadata": {},
   "outputs": [
    {
     "data": {
      "image/png": "[encoded data removed]",
      "text/plain": [
       "<Figure size 648x216 with 2 Axes>"
      ]
     },
     "metadata": {
      "needs_background": "light"
     },
     "output_type": "display_data"
    }
   ],
   "source": [
    "var_bay = [VarBay4, VarBay4_2d, VarBay4_3d, VarBay4_5d]\n",
    "var_nobay = [VarNoB4, VarNoB4_2d, VarNoB4_3d, VarNoB4_5d]\n",
    "percentages = [perc4, perc4_2d, perc4_3d, perc4_5d]\n",
    "layer_depth = Zl[z4]\n",
    "ax,ax1 = plot_var(var_bay, var_nobay, percentages, layer_depth)"
   ]
  },
  {
   "cell_type": "code",
   "execution_count": 59,
   "id": "9fcc31ec",
   "metadata": {},
   "outputs": [
    {
     "data": {
      "text/plain": [
       "[0.005136456429487712,\n",
       " 0.0025689357550946713,\n",
       " 0.0017129560409010706,\n",
       " 0.0010310192509123118]"
      ]
     },
     "execution_count": 59,
     "metadata": {},
     "output_type": "execute_result"
    }
   ],
   "source": [
    "[VarBay1, VarBay1_2d, VarBay1_3d, VarBay1_5d]\n"
   ]
  },
  {
   "cell_type": "code",
   "execution_count": 60,
   "id": "4cf87359",
   "metadata": {},
   "outputs": [
    {
     "data": {
      "text/plain": [
       "[nan, nan, nan, nan]"
      ]
     },
     "execution_count": 60,
     "metadata": {},
     "output_type": "execute_result"
    }
   ],
   "source": [
    "[VarNoB1, VarNoB1_2d, VarNoB1_3d, VarNoB1_5d]\n"
   ]
  },
  {
   "cell_type": "code",
   "execution_count": 61,
   "id": "bf238323",
   "metadata": {},
   "outputs": [
    {
     "data": {
      "text/plain": [
       "(1.651343984361409e-06,\n",
       " 1.5968964528653424e-06,\n",
       " 1.858023024175661e-06,\n",
       " 1.5328015821687493e-06)"
      ]
     },
     "execution_count": 61,
     "metadata": {},
     "output_type": "execute_result"
    }
   ],
   "source": [
    "VarNoB3, VarNoB3_2d, VarNoB3_3d, VarNoB3_5d"
   ]
  },
  {
   "cell_type": "code",
   "execution_count": 62,
   "id": "df177d32",
   "metadata": {},
   "outputs": [
    {
     "data": {
      "text/plain": [
       "(1.5163087947672676e+188,\n",
       " 7.581543973836338e+187,\n",
       " 5.054362649224225e+187,\n",
       " 3.0410649922908988e+187)"
      ]
     },
     "execution_count": 62,
     "metadata": {},
     "output_type": "execute_result"
    }
   ],
   "source": [
    "VarBay3, VarBay3_2d, VarBay3_3d, VarBay3_5d"
   ]
  },
  {
   "cell_type": "code",
   "execution_count": 63,
   "id": "845fd7eb",
   "metadata": {},
   "outputs": [
    {
     "data": {
      "text/plain": [
       "1.5936005367885776e-06"
      ]
     },
     "execution_count": 63,
     "metadata": {},
     "output_type": "execute_result"
    }
   ],
   "source": [
    "VarNoB4"
   ]
  },
  {
   "cell_type": "code",
   "execution_count": null,
   "id": "ad47b7f5",
   "metadata": {},
   "outputs": [],
   "source": []
  }
 ],
 "metadata": {
  "kernelspec": {
   "display_name": "Python 3",
   "language": "python",
   "name": "python3"
  },
  "language_info": {
   "codemirror_mode": {
    "name": "ipython",
    "version": 3
   },
   "file_extension": ".py",
   "mimetype": "text/x-python",
   "name": "python",
   "nbconvert_exporter": "python",
   "pygments_lexer": "ipython3",
   "version": "3.9.5"
  }
 },
 "nbformat": 4,
 "nbformat_minor": 5
}
