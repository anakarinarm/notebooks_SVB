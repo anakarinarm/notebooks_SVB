{
 "cells": [
  {
   "cell_type": "markdown",
   "id": "9bef9075",
   "metadata": {},
   "source": [
    "### Calculate wind stress energy into the domain and kinetic energy"
   ]
  },
  {
   "cell_type": "code",
   "execution_count": 1,
   "id": "e958a47a",
   "metadata": {},
   "outputs": [],
   "source": [
    "import cmocean as cmo\n",
    "import matplotlib.pyplot as plt\n",
    "import numpy as np\n",
    "import seaborn as sns\n",
    "import warnings\n",
    "warnings.filterwarnings('ignore')\n",
    "from xmitgcm import open_mdsdataset"
   ]
  },
  {
   "cell_type": "code",
   "execution_count": 2,
   "id": "8c0a417e",
   "metadata": {},
   "outputs": [],
   "source": [
    "outdir = '/data/SO2/sio-kramosmusalem/exp06_512x612x100_ORL_SVB/01_SVB_febTS_output/'\n",
    "outdir2 = '/data/SO2/sio-kramosmusalem/exp06_512x612x100_ORL/01_noSVB_febTS/'\n",
    "\n",
    "levels = [1,   2,  3,  4,  5,  6,  7,  8,  9, 10, \n",
    "          11, 12, 13, 14, 15, 16, 17,\n",
    "          18, 19, 20, 21, 22, 23, 24, 25,\n",
    "          26, 27, 28, 29, 30, 31,\n",
    "          32, 33, 34, 35, 36, 37, 38, 39, 40, 41, 42, 43, 44,\n",
    "          45, 46, 47, 48, 49, 50, 51, 52, 53, 54, 55, 56, 57,              \n",
    "          58, 59, 60, 61, 62, 63, 64, 65, 66, 67, 68, 69, 70, \n",
    "          74, 79, 84, 89, 94, 99,]\n",
    "ds = open_mdsdataset(outdir, prefix=['eta','dynVars'], levels=levels)\n",
    "ds2 = open_mdsdataset(outdir2, prefix=['eta','dynVars'], levels=levels)"
   ]
  },
  {
   "cell_type": "code",
   "execution_count": 3,
   "id": "5a3a5ff8",
   "metadata": {},
   "outputs": [],
   "source": [
    "nx = 512\n",
    "ny = 612\n",
    "nz = 76\n",
    "nt = 720\n",
    "dt = 600 # sec\n",
    "z1 = 25 # Zl[25] = -99 m\n",
    "z2 = 37 # Zl[37] = -197.2 m\n",
    "z3 = 45 # Zl[45] = -292.2 m\n",
    "z4 = 55 # Zl[55] = -508.2 m\n",
    "\n",
    "depth_nob = ds2.Depth[:]\n",
    "LAT = ds2['YC'][:]\n",
    "LON = ds2['XC'][:]-360\n",
    "lat = ds2.YC[:,0].data\n",
    "lon = ds2.XC[0,:].data-360\n",
    "\n",
    "Z = ds2['Z'][:]\n",
    "Zl = ds2['Zl'][:]\n",
    "\n",
    "# centers mask\n",
    "hFacC = ds2['hFacC'][:]\n",
    "hfac = np.ma.masked_values(hFacC, 0)\n",
    "mask = np.ma.getmask(hfac)\n",
    "dep_masked = np.ma.masked_values(depth_nob,0)\n",
    "mask_dep = np.ma.getmask(dep_masked)\n",
    "time = np.arange(0,720)*600\n",
    "\n",
    "# centers mask bathy with bay\n",
    "depth_bay = ds.Depth[:]\n",
    "hFacCSVB = ds['hFacC'][:]\n",
    "hfacSVB = np.ma.masked_values(hFacCSVB, 0)\n",
    "maskSVB = np.ma.getmask(hfacSVB)"
   ]
  },
  {
   "cell_type": "markdown",
   "id": "016d5f9a",
   "metadata": {},
   "source": [
    "### Energy from wind\n",
    "\n",
    "Eg. intro in https://www.sciencedirect.com/science/article/pii/S0967063708001994 or\n",
    "https://journals.ametsoc.org/view/journals/phoc/36/2/jpo2842.1.xml\n",
    "\n",
    "Wind power input per unit area\n",
    "\n",
    "$$P =\\vec{u_s}\\cdot\\vec{\\tau},$$\n",
    "where $\\vec{u_s}$ is the surface velocity and $\\vec{\\tau}$ is the wind stress (these should probably be 3D quantities $(u,v,w)$ and ($\\tau_x$,$\\tau_y$,Pressure?), but lest's just use the horizontal components).\n",
    "\n",
    "Then, an integral of P over area gives a flux of energy in J/s.\n",
    "\n",
    "Do I have surface velocities?"
   ]
  },
  {
   "cell_type": "code",
   "execution_count": 4,
   "id": "aea4ff11",
   "metadata": {},
   "outputs": [
    {
     "name": "stdout",
     "output_type": "stream",
     "text": [
      "-3.000\n"
     ]
    }
   ],
   "source": [
    "#print(f'{ds.Z.data[0]}')\n",
    "print('%1.3f' %ds.Z.data[0])"
   ]
  },
  {
   "cell_type": "markdown",
   "id": "e80b0be0",
   "metadata": {},
   "source": [
    "Nope, I have vel at 3 m depth. Come back to fix this."
   ]
  },
  {
   "cell_type": "code",
   "execution_count": 5,
   "id": "629d9752",
   "metadata": {},
   "outputs": [],
   "source": [
    "## Make wind stress array\n",
    "\n",
    "## Gaussian pulse\n",
    "t = np.linspace(0,nt*0.167,nt) # time array of wind records\n",
    "max_tau = 0.1 # W/m^2\n",
    "sigma = 1\n",
    "center = 3.5 # base 3.5 hr, faster 2.5 hr, slower 4.5\n",
    "gauss = max_tau*np.exp(-((t-center)**2)/(2*sigma))\n",
    "mask = t>center\n",
    "gauss[mask]=0\n",
    "\n",
    "## Rotation angle (in deg) to get alongshore winds (see previous notebook)\n",
    "angle_up = 300. # upwelling favourable\n",
    "\n",
    "## Grid size\n",
    "lat_bot = 27.0 \n",
    "lat_top = 35.3 \n",
    "\n",
    "## Region where winds will blow (over SVB: 27.9, 30.0, -115.1, -114)\n",
    "lat1 = 27.0 \n",
    "lat2 = 35.3 \n",
    "lon1 = -122 # -122 domain 5\n",
    "lon2 = -114\n",
    "\n",
    "## Domain boundaries\n",
    "lon_ini = -122.0 # -122.0 domain 5\n",
    "lon_end = -114.0\n",
    "lat_ini = 27.0\n",
    "lat_end = 35.3    \n",
    "    \n",
    "### Rotate winds\n",
    "windstress= np.expand_dims(np.expand_dims(gauss,1),1) + np.zeros((nt,ny,nx))\n",
    "alpha = np.radians(angle_up)\n",
    "\n",
    "zonal_tau = windstress*np.cos(alpha)\n",
    "merid_tau = windstress*np.sin(alpha)"
   ]
  },
  {
   "cell_type": "code",
   "execution_count": 6,
   "id": "01e548b4",
   "metadata": {},
   "outputs": [
    {
     "data": {
      "text/plain": [
       "(0.0, 20.0)"
      ]
     },
     "execution_count": 6,
     "metadata": {},
     "output_type": "execute_result"
    },
    {
     "data": {
      "image/png": "[encoded data removed]",
      "text/plain": [
       "<Figure size 432x288 with 1 Axes>"
      ]
     },
     "metadata": {
      "needs_background": "light"
     },
     "output_type": "display_data"
    }
   ],
   "source": [
    "plt.plot(t,zonal_tau[:,0,0],'-o', color='darkred', label=r'$\\tau_x$')\n",
    "plt.plot(t,merid_tau[:,0,0],'-o', color='red', label=r'$\\tau_y$')\n",
    "plt.legend()\n",
    "plt.xlabel('time / hrs')\n",
    "plt.ylabel(r'$\\tau_{||}$ / N m$^{-2}$')\n",
    "plt.xlim(0,20)"
   ]
  },
  {
   "cell_type": "code",
   "execution_count": 7,
   "id": "d53464ef",
   "metadata": {},
   "outputs": [],
   "source": [
    "# Calculate P = \\vec{u}\\cdot\\vec{\\tau}\n",
    "\n",
    "# unstagger first, come back to do this properly!\n",
    "P = ds.UVEL.data[:nt,0,...]*zonal_tau + ds.VVEL.data[:nt,0,...]*merid_tau"
   ]
  },
  {
   "cell_type": "code",
   "execution_count": 8,
   "id": "ed8083ad",
   "metadata": {},
   "outputs": [
    {
     "data": {
      "text/plain": [
       "[<matplotlib.lines.Line2D at 0x7fd8b2d74580>]"
      ]
     },
     "execution_count": 8,
     "metadata": {},
     "output_type": "execute_result"
    },
    {
     "data": {
      "image/png": "[encoded data removed]",
      "text/plain": [
       "<Figure size 432x288 with 1 Axes>"
      ]
     },
     "metadata": {
      "needs_background": "light"
     },
     "output_type": "display_data"
    }
   ],
   "source": [
    "plt.pcolormesh(lon,lat,P[20,:,:])\n",
    "p1 = [100,100]\n",
    "p2 = [460,120]\n",
    "p3 = [170,400]\n",
    "\n",
    "plt.plot(lon[p1[0]],lat[p1[1]],'ro')\n",
    "plt.plot(lon[p2[0]],lat[p2[1]],'ro')\n",
    "plt.plot(lon[p3[0]],lat[p3[1]],'ro')"
   ]
  },
  {
   "cell_type": "code",
   "execution_count": 13,
   "id": "17607537",
   "metadata": {},
   "outputs": [],
   "source": [
    "tend=144"
   ]
  },
  {
   "cell_type": "code",
   "execution_count": 14,
   "id": "f4f46c80",
   "metadata": {},
   "outputs": [],
   "source": [
    "# Calclulate energy flux in J/s over whole domain (surface integrated)\n",
    "# rA area tracer cells\n",
    "dA = np.expand_dims(ds.rA.data,0) + np.zeros((nt,ny,nx))\n",
    "Ewind = np.nansum(np.nansum(dA*P, axis=1),axis=1)"
   ]
  },
  {
   "cell_type": "code",
   "execution_count": null,
   "id": "1af64dba",
   "metadata": {},
   "outputs": [],
   "source": [
    "fig,ax = plt.subplots(1,1)\n",
    "for tt,ee in zip(t,Ewind):\n",
    "    ax.plot(tt,ee,'ro')\n",
    "    \n"
   ]
  },
  {
   "cell_type": "code",
   "execution_count": null,
   "id": "73a73538",
   "metadata": {},
   "outputs": [],
   "source": []
  }
 ],
 "metadata": {
  "kernelspec": {
   "display_name": "Python 3",
   "language": "python",
   "name": "python3"
  },
  "language_info": {
   "codemirror_mode": {
    "name": "ipython",
    "version": 3
   },
   "file_extension": ".py",
   "mimetype": "text/x-python",
   "name": "python",
   "nbconvert_exporter": "python",
   "pygments_lexer": "ipython3",
   "version": "3.9.5"
  }
 },
 "nbformat": 4,
 "nbformat_minor": 5
}
