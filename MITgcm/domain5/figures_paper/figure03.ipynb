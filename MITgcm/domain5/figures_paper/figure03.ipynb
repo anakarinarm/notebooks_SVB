{
 "cells": [
  {
   "cell_type": "code",
   "execution_count": 1,
   "id": "ea349f64",
   "metadata": {},
   "outputs": [],
   "source": [
    "import cmocean as cmo\n",
    "import matplotlib.pyplot as plt\n",
    "import matplotlib as mpl\n",
    "from matplotlib.gridspec import GridSpec\n",
    "from matplotlib.gridspec import GridSpecFromSubplotSpec\n",
    "from matplotlib.lines import Line2D\n",
    "%matplotlib inline\n",
    "import numpy as np\n",
    "import seaborn as sns\n",
    "import warnings\n",
    "warnings.filterwarnings('ignore')\n",
    "from xmitgcm import open_mdsdataset"
   ]
  },
  {
   "cell_type": "code",
   "execution_count": 2,
   "id": "8d42e75d",
   "metadata": {},
   "outputs": [],
   "source": [
    "outdir = '/data/SO2/sio-kramosmusalem/exp06_512x612x100_ORL_SVB/01_SVB_febTS_output/'\n",
    "outdir2 = '/data/SO2/sio-kramosmusalem/exp06_512x612x100_ORL/01_noSVB_febTS/'\n",
    "iters = [xx for xx in range(10,1440*5+10,10)]\n",
    "levels = [1]\n",
    "ds = open_mdsdataset(outdir, prefix=['eta'], levels=levels, iters=iters)\n",
    "ds2 = open_mdsdataset(outdir2, prefix=['eta'], levels=levels, iters=iters)"
   ]
  },
  {
   "cell_type": "code",
   "execution_count": 3,
   "id": "c2f25ff5",
   "metadata": {},
   "outputs": [],
   "source": [
    "time = np.arange(0,720)*600\n",
    "depth = ds2.Depth[:]\n",
    "LAT = ds2['YC'][:]\n",
    "LON = ds2['XC'][:]-360\n",
    "lat = ds2.YC[:,0].data\n",
    "lon = ds2.XC[0,:].data-360\n",
    "\n",
    "# No bay centers mask\n",
    "hFacC = ds2['hFacC'][:]\n",
    "hfac = np.ma.masked_values(hFacC, 0)\n",
    "mask = np.ma.getmask(hfac)\n",
    "dep_masked = np.ma.masked_values(depth,0)\n",
    "mask_dep = np.ma.getmask(dep_masked)\n",
    "\n",
    "# depth - bathymetry with SVB\n",
    "depthSVB = ds.Depth[:]"
   ]
  },
  {
   "cell_type": "code",
   "execution_count": 4,
   "id": "009a78cc",
   "metadata": {},
   "outputs": [],
   "source": [
    "def frame(tt, ax):\n",
    "    ssh = np.ma.masked_array(ds.ETAN[tt,:,:]-ds2.ETAN[tt,:,:], mask=mask[0,:,:])   \n",
    "    pc = ax.pcolormesh(LON,LAT,ssh*100,cmap=cmo.cm.curl,vmin=-0.1, vmax=0.1)\n",
    "    \n",
    "    ax.contour(LON,LAT,ssh*100,levels=[-0.05,-0.005,0,0.005,0.05], \n",
    "               colors=['cyan','b','0.6','coral','gold'], alpha=0.7)\n",
    "    ax.contour(lon,lat,depthSVB[:,:], levels=[0], colors=['k'])\n",
    "    ax.contour(lon,lat,depthSVB[:,:], levels=[500], colors=['0.5'],alpha=0.7)\n",
    "    ax.set_title('%1.2f hr' %(tt/6), pad=0)\n",
    "    ax.set_xlim(238-360, 246-360)\n",
    "    ax.set_ylim(27.08,35.3)\n",
    "    ax.set_aspect(1)\n",
    "    \n",
    "    return(pc)"
   ]
  },
  {
   "cell_type": "code",
   "execution_count": null,
   "id": "0dd8fb54",
   "metadata": {},
   "outputs": [],
   "source": [
    "sns.set_context('talk')\n",
    "\n",
    "## === FIGURE ===\n",
    "fig, ((ax,ax2,ax3),(ax4,ax5,ax6),(ax7,ax8,ax9)) = plt.subplots(3,3, figsize=(7.48,8))\n",
    "axs = [ax,ax2,ax3,ax4,ax5,ax6,ax7,ax8,ax9]\n",
    "\n",
    "# Plot each frame\n",
    "for tt, axx in zip(range(26,45,2), axs):\n",
    "    axx.set_facecolor('tan')\n",
    "    pc=frame(tt, axx)\n",
    "\n",
    "# Set ticks and labels    \n",
    "for axx in (ax,ax2,ax3,ax4,ax5,ax6):\n",
    "    axx.set_xticks([])\n",
    "for axx in (ax7,ax8,ax9):\n",
    "    axx.set_xlabel('Lon')\n",
    "for axx in (ax,ax4,ax7):\n",
    "    axx.set_ylabel('Lat')\n",
    "for axx in (ax2,ax3,ax5,ax6,ax8,ax9):\n",
    "    axx.set_yticks([])\n",
    "\n",
    "# colorbars    \n",
    "cbar_ax = fig.add_axes([0.91, 0.125, 0.02, 0.22]) \n",
    "fig.colorbar(pc,cax=cbar_ax, orientation='vertical', \n",
    "             format='%1.2f', label='SSH (cm)', pad=0, extend='both')\n",
    "cbar_ax = fig.add_axes([0.91, 0.392, 0.02, 0.22]) \n",
    "fig.colorbar(pc,cax=cbar_ax, orientation='vertical', \n",
    "             format='%1.2f', label='SSH (cm)', pad=0, extend='both')\n",
    "cbar_ax = fig.add_axes([0.91, 0.66, 0.02, 0.22]) \n",
    "fig.colorbar(pc,cax=cbar_ax, orientation='vertical', \n",
    "             format='%1.2f', label='SSH (cm)', pad=0, extend='both')\n",
    "# custom legend\n",
    "custom_lines = [Line2D([0], [0], color='cyan', lw=3, alpha=0.7),\n",
    "                Line2D([0], [0], color='b', lw=3, alpha=0.7),\n",
    "                Line2D([0], [0], color='0.6', lw=3, alpha=0.7),\n",
    "                Line2D([0], [0], color='coral', lw=3, alpha=0.7), \n",
    "                Line2D([0], [0], color='gold', lw=3, alpha=0.7)]\n",
    "\n",
    "ax8.legend(custom_lines, [r'$-5x10^{-2}$ cm', r'$-5x10^{-3}$ cm', \n",
    "                          '0 cm',r'$5x10^{-3}$ cm',r'$5x10^{-2}$ cm'],\n",
    "           bbox_to_anchor=(2.1,-0.3), ncol=5, columnspacing=0.8,\n",
    "           handletextpad=0.3, handlelength=1.5)\n",
    "\n",
    "# save figure\n",
    "plt.savefig('gravitywave_poster.pdf', dpi=500, bbox_inches='tight')"
   ]
  },
  {
   "cell_type": "code",
   "execution_count": null,
   "id": "66d1cefc",
   "metadata": {},
   "outputs": [],
   "source": []
  }
 ],
 "metadata": {
  "kernelspec": {
   "display_name": "Python 3",
   "language": "python",
   "name": "python3"
  },
  "language_info": {
   "codemirror_mode": {
    "name": "ipython",
    "version": 3
   },
   "file_extension": ".py",
   "mimetype": "text/x-python",
   "name": "python",
   "nbconvert_exporter": "python",
   "pygments_lexer": "ipython3",
   "version": "3.9.5"
  }
 },
 "nbformat": 4,
 "nbformat_minor": 5
}
