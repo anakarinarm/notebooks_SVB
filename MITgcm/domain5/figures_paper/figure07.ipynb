{
 "cells": [
  {
   "cell_type": "code",
   "execution_count": null,
   "id": "c79d91a3",
   "metadata": {},
   "outputs": [],
   "source": [
    "import cmocean as cmo\n",
    "import matplotlib as mpl\n",
    "import matplotlib.pyplot as plt\n",
    "import numpy as np\n",
    "import seaborn as sns\n",
    "from scipy import signal\n",
    "from eofs.standard import Eof\n",
    "from eofs.examples import example_data_path\n",
    "from xmitgcm import open_mdsdataset\n",
    "import warnings\n",
    "warnings.filterwarnings('ignore')"
   ]
  },
  {
   "cell_type": "code",
   "execution_count": null,
   "id": "57264289",
   "metadata": {},
   "outputs": [],
   "source": [
    "# Read data and bathy\n",
    "outdir = '/data/SO2/sio-kramosmusalem/exp06_512x612x100_ORL_SVB/01_SVB_febTS_output/'\n",
    "outdir2 = '/data/SO2/sio-kramosmusalem/exp06_512x612x100_ORL/01_noSVB_febTS/'\n",
    "\n",
    "levels = [1,   2,  3,  4,  5,  6,  7,  8,  9, 10, \n",
    "          11, 12, 13, 14, 15, 16, 17,\n",
    "          18, 19, 20, 21, 22, 23, 24, 25,\n",
    "          26, 27, 28, 29, 30, 31,\n",
    "          32, 33, 34, 35, 36, 37, 38, 39, 40, 41, 42, 43, 44,\n",
    "          45, 46, 47, 48, 49, 50, 51, 52, 53, 54, 55, 56, 57,              \n",
    "          58, 59, 60, 61, 62, 63, 64, 65, 66, 67, 68, 69, 70, \n",
    "          74, 79, 84, 89, 94, 99,]\n",
    "ds = open_mdsdataset(outdir, prefix=['eta','dynVars'], levels=levels)\n",
    "ds2 = open_mdsdataset(outdir2, prefix=['eta','dynVars'], levels=levels)"
   ]
  },
  {
   "cell_type": "code",
   "execution_count": null,
   "id": "cb77440b",
   "metadata": {},
   "outputs": [],
   "source": [
    "depth = ds2.Depth[:]\n",
    "lats = ds2.YC[:,0].data\n",
    "lons = ds2.XC[0,:].data-360\n",
    "hFacC = ds2.hFacC.data\n",
    "hfac = np.ma.masked_values(hFacC, 0)\n",
    "mask = np.ma.getmask(hfac)\n",
    "\n",
    "ssh = ds.ETAN[:].data-ds2.ETAN[:].data\n",
    "mask_ssh = np.expand_dims(mask[0,:,:], axis=0) + np.zeros_like(ssh)\n",
    "ssh_masked = np.ma.masked_array(ssh, mask=mask_ssh)"
   ]
  },
  {
   "cell_type": "code",
   "execution_count": null,
   "id": "4908bdc8",
   "metadata": {},
   "outputs": [],
   "source": [
    "# Create an EOF solver to do the EOF analysis. Square-root of cosine of\n",
    "# latitude weights are applied before the computation of EOFs.\n",
    "coslat = np.cos(np.deg2rad(lats))\n",
    "wgts = np.sqrt(coslat)[..., np.newaxis]\n",
    "solver = Eof(ssh_masked, weights=wgts) # I tried with weights=None and I got the same result. KRM"
   ]
  },
  {
   "cell_type": "code",
   "execution_count": null,
   "id": "7de55667",
   "metadata": {},
   "outputs": [],
   "source": [
    "# Retrieve the leading EOF, expressed as the correlation between the leading\n",
    "# PC time series and the input SST anomalies at each grid point, and the\n",
    "# leading PC time series itself.\n",
    "eof = solver.eofs(neofs=3,eofscaling=1)\n",
    "eofCorr = solver.eofsAsCorrelation(neofs=3)\n",
    "pc = solver.pcs(npcs=3, pcscaling=1)\n",
    "varFact = solver.varianceFraction(neigs=3)"
   ]
  },
  {
   "cell_type": "code",
   "execution_count": null,
   "id": "907e51cb",
   "metadata": {},
   "outputs": [],
   "source": [
    "# Plot the leading PC time series.\n",
    "sns.set_context('talk')\n",
    "times = np.arange(0,720)*600\n",
    "fig,ax = plt.subplots(1,1, figsize=(14,4))\n",
    "ax.axhline(0, color='0.8')\n",
    "ax.axvline(3.6, color='0.8', linestyle='--')\n",
    "ax.plot(times/3600, pc[:,0], color='purple', linewidth=2, label='PC1')\n",
    "ax.plot(times/3600, pc[:,1], color='orange', linewidth=2, label='PC2')\n",
    "ax.plot(times/3600, pc[:,2], color='green', linewidth=2, label='PC3')\n",
    "ax.set_title('PC Time Series')\n",
    "ax.set_xlabel('Hours')\n",
    "ax.set_ylabel('Normalized Units')\n",
    "ax.set_xlim(0,120)\n",
    "#plt.ylim(-3, 3)\n",
    "plt.legend()\n",
    "plt.show()"
   ]
  },
  {
   "cell_type": "code",
   "execution_count": null,
   "id": "c08f47e5",
   "metadata": {},
   "outputs": [],
   "source": [
    "# Plot the leading EOF expressed as correlation in the Pacific domain.\n",
    "fig, (ax1,ax2,ax3) = plt.subplots(1,3,figsize=(15,7), sharey=True)\n",
    "ax1.set_ylabel('Lat')\n",
    "for nmode, ax in zip([0,1,2], [ax1,ax2,ax3]):\n",
    "    ax.set_facecolor('tan')\n",
    "    cn = ax.pcolormesh(lons, lats, np.ma.masked_array(eof[nmode].squeeze(),mask=mask[0,:,:]), \n",
    "                       cmap=cmo.cm.curl, vmin=-0.6, vmax=0.6)\n",
    "    cb = plt.colorbar(cn, ax=ax, orientation='horizontal', pad=0.15)\n",
    "    ax.contour(lons, lats, eof[nmode].squeeze(), levels=[0],colors=['0.2'])\n",
    "    ax.contour(lons,lats, depth, levels=[0], colors='k')\n",
    "    cb.set_label('unscaled EOF')\n",
    "    ax.set_title('EOF%d, variance explained=%1.3f' %(nmode+1,varFact[nmode]), fontsize=14)\n",
    "    ax.set_aspect(1)\n",
    "    ax.set_xlabel('Lon')"
   ]
  }
 ],
 "metadata": {
  "kernelspec": {
   "display_name": "Python 3",
   "language": "python",
   "name": "python3"
  },
  "language_info": {
   "codemirror_mode": {
    "name": "ipython",
    "version": 3
   },
   "file_extension": ".py",
   "mimetype": "text/x-python",
   "name": "python",
   "nbconvert_exporter": "python",
   "pygments_lexer": "ipython3",
   "version": "3.9.5"
  }
 },
 "nbformat": 4,
 "nbformat_minor": 5
}
