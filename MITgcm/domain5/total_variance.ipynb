{
 "cells": [
  {
   "cell_type": "markdown",
   "id": "81ab0592",
   "metadata": {},
   "source": [
    "Calculate total variance (without WKB normalization) in runs with and without bay"
   ]
  },
  {
   "cell_type": "code",
   "execution_count": 1,
   "id": "4f609f31",
   "metadata": {},
   "outputs": [],
   "source": [
    "import cmocean as cmo\n",
    "import matplotlib.pyplot as plt\n",
    "import matplotlib.patches as patches\n",
    "import matplotlib as mpl\n",
    "from matplotlib.gridspec import GridSpec\n",
    "from matplotlib.gridspec import GridSpecFromSubplotSpec\n",
    "%matplotlib inline\n",
    "import numpy as np\n",
    "import seaborn as sns\n",
    "import warnings\n",
    "warnings.filterwarnings('ignore')\n",
    "from xmitgcm import open_mdsdataset"
   ]
  },
  {
   "cell_type": "code",
   "execution_count": 2,
   "id": "1e8830f6",
   "metadata": {},
   "outputs": [],
   "source": [
    "outdir = '/data/SO2/sio-kramosmusalem/exp06_512x612x100_ORL_SVB/01_SVB_febTS_output/'\n",
    "outdir2 = '/data/SO2/sio-kramosmusalem/exp06_512x612x100_ORL/01_noSVB_febTS/'\n",
    "\n",
    "levels = [1,   2,  3,  4,  5,  6,  7,  8,  9, 10, \n",
    "          11, 12, 13, 14, 15, 16, 17,\n",
    "          18, 19, 20, 21, 22, 23, 24, 25,\n",
    "          26, 27, 28, 29, 30, 31,\n",
    "          32, 33, 34, 35, 36, 37, 38, 39, 40, 41, 42, 43, 44,\n",
    "          45, 46, 47, 48, 49, 50, 51, 52, 53, 54, 55, 56, 57,              \n",
    "          58, 59, 60, 61, 62, 63, 64, 65, 66, 67, 68, 69, 70, \n",
    "          74, 79, 84, 89, 94, 99,]\n",
    "ds = open_mdsdataset(outdir, prefix=['eta','dynVars'], levels=levels)\n",
    "ds2 = open_mdsdataset(outdir2, prefix=['eta','dynVars'], levels=levels)"
   ]
  },
  {
   "cell_type": "code",
   "execution_count": 3,
   "id": "6079c77a",
   "metadata": {},
   "outputs": [],
   "source": [
    "nx = 512\n",
    "ny = 612\n",
    "nz = 76\n",
    "dt = 600\n",
    "\n",
    "depth_nob = ds2.Depth[:]\n",
    "LAT = ds2['YC'][:]\n",
    "LON = ds2['XC'][:]-360\n",
    "lat = ds2.YC[:,0].data\n",
    "lon = ds2.XC[0,:].data-360\n",
    "\n",
    "Z = ds2['Z'][:]\n",
    "Zl = ds2['Zl'][:]\n",
    "\n",
    "# centers mask\n",
    "hFacC = ds2['hFacC'][:]\n",
    "hfac = np.ma.masked_values(hFacC, 0)\n",
    "mask = np.ma.getmask(hfac)\n",
    "dep_masked = np.ma.masked_values(depth_nob,0)\n",
    "mask_dep = np.ma.getmask(dep_masked)\n",
    "time = np.arange(0,720)*600\n",
    "\n",
    "# centers mask bathy with bay\n",
    "depth_bay = ds.Depth[:]\n",
    "hFacCSVB = ds['hFacC'][:]\n",
    "hfacSVB = np.ma.masked_values(hFacCSVB, 0)\n",
    "maskSVB = np.ma.getmask(hfacSVB)"
   ]
  },
  {
   "cell_type": "markdown",
   "id": "4c7b09cd",
   "metadata": {},
   "source": [
    "### No bay run"
   ]
  },
  {
   "cell_type": "code",
   "execution_count": 5,
   "id": "2609ce27",
   "metadata": {},
   "outputs": [],
   "source": [
    "tini = 0\n",
    "tend = 144\n",
    "Wacc = np.empty((nz,ny,nx))\n",
    "\n",
    "mask_ext = np.expand_dims(mask,0)\n",
    "mask_ext = mask_ext + np.zeros_like(ds2.variables['WVEL'][tini:tend,...])\n",
    "Wmean = np.nanmean(np.ma.masked_array(ds2.variables['WVEL'][tini:tend,...],\n",
    "                                      mask=mask_ext),axis=0)\n",
    "\n",
    "for tt in range(tini,tend):\n",
    "    W = np.ma.masked_array(ds2.variables['WVEL'][tt,...], mask=mask)\n",
    "    Wacc = Wacc + (W-Wmean)**2    "
   ]
  },
  {
   "cell_type": "code",
   "execution_count": 6,
   "id": "84d90645",
   "metadata": {},
   "outputs": [
    {
     "data": {
      "text/plain": [
       "0.0024568781923861994"
      ]
     },
     "execution_count": 6,
     "metadata": {},
     "output_type": "execute_result"
    }
   ],
   "source": [
    "VarNoB = np.nansum((Wacc*dt))/(time[tend]-time[tini])\n",
    "VarNoB"
   ]
  },
  {
   "cell_type": "code",
   "execution_count": 6,
   "id": "a2d7a14f",
   "metadata": {},
   "outputs": [],
   "source": [
    "tend2 = 288\n",
    "for tt in range(tend,tend2):\n",
    "    W = np.ma.masked_array(ds2.variables['WVEL'][tt,...], mask=mask)\n",
    "    Wacc = Wacc + W**2    "
   ]
  },
  {
   "cell_type": "code",
   "execution_count": 7,
   "id": "2a4ac632",
   "metadata": {},
   "outputs": [
    {
     "data": {
      "text/plain": [
       "0.004669825769226912"
      ]
     },
     "execution_count": 7,
     "metadata": {},
     "output_type": "execute_result"
    }
   ],
   "source": [
    "VarNoB_2d = np.nansum((Wacc*dt))/(time[tend2]-time[tini])\n",
    "VarNoB_2d"
   ]
  },
  {
   "cell_type": "code",
   "execution_count": 8,
   "id": "d18c2b54",
   "metadata": {},
   "outputs": [],
   "source": [
    "tend3 = 144*3\n",
    "for tt in range(tend2,tend3):\n",
    "    W = np.ma.masked_array(ds2.variables['WVEL'][tt,...], mask=mask)\n",
    "    Wacc = Wacc + W**2    "
   ]
  },
  {
   "cell_type": "code",
   "execution_count": 9,
   "id": "a790bc6b",
   "metadata": {},
   "outputs": [
    {
     "data": {
      "text/plain": [
       "0.003233239904474046"
      ]
     },
     "execution_count": 9,
     "metadata": {},
     "output_type": "execute_result"
    }
   ],
   "source": [
    "VarNoB_3d = np.nansum((Wacc*dt))/(time[tend3]-time[tini])\n",
    "VarNoB_3d"
   ]
  },
  {
   "cell_type": "code",
   "execution_count": 10,
   "id": "80f60cf1",
   "metadata": {},
   "outputs": [],
   "source": [
    "tend4 = (144*5)-1\n",
    "for tt in range(tend3,tend4):\n",
    "    W = np.ma.masked_array(ds2.variables['WVEL'][tt,...], mask=mask)\n",
    "    Wacc = Wacc + W**2    "
   ]
  },
  {
   "cell_type": "code",
   "execution_count": 11,
   "id": "54b32d7e",
   "metadata": {},
   "outputs": [
    {
     "data": {
      "text/plain": [
       "0.0020129754419864966"
      ]
     },
     "execution_count": 11,
     "metadata": {},
     "output_type": "execute_result"
    }
   ],
   "source": [
    "VarNoB_5d = np.nansum((Wacc*dt))/(time[tend4-1]-time[tini])\n",
    "VarNoB_5d"
   ]
  },
  {
   "cell_type": "markdown",
   "id": "0d9d5acb",
   "metadata": {},
   "source": [
    "### Run with SVB"
   ]
  },
  {
   "cell_type": "code",
   "execution_count": 12,
   "id": "bf292e59",
   "metadata": {},
   "outputs": [],
   "source": [
    "Wacc = np.empty((nz,ny,nx))\n",
    "\n",
    "for tt in range(tini,tend):\n",
    "    W = np.ma.masked_array(ds.variables['WVEL'][tt,...], mask=mask)\n",
    "    Wacc = Wacc + W**2"
   ]
  },
  {
   "cell_type": "code",
   "execution_count": 13,
   "id": "66d69c3c",
   "metadata": {},
   "outputs": [
    {
     "data": {
      "text/plain": [
       "0.007768728878617569"
      ]
     },
     "execution_count": 13,
     "metadata": {},
     "output_type": "execute_result"
    }
   ],
   "source": [
    "VarBay = np.nansum((Wacc*dt))/(time[tend]-time[tini])\n",
    "VarBay"
   ]
  },
  {
   "cell_type": "code",
   "execution_count": 14,
   "id": "156336fb",
   "metadata": {},
   "outputs": [],
   "source": [
    "for tt in range(tend,tend2):\n",
    "    W = np.ma.masked_array(ds.variables['WVEL'][tt,...], mask=mask)\n",
    "    Wacc = Wacc + W**2"
   ]
  },
  {
   "cell_type": "code",
   "execution_count": 15,
   "id": "65f3db8d",
   "metadata": {},
   "outputs": [
    {
     "data": {
      "text/plain": [
       "0.004673936636189143"
      ]
     },
     "execution_count": 15,
     "metadata": {},
     "output_type": "execute_result"
    }
   ],
   "source": [
    "VarBay_2d = np.nansum((Wacc*dt))/(time[tend2]-time[tini])\n",
    "VarBay_2d"
   ]
  },
  {
   "cell_type": "code",
   "execution_count": 16,
   "id": "202324f8",
   "metadata": {},
   "outputs": [],
   "source": [
    "for tt in range(tend2,tend3):\n",
    "    W = np.ma.masked_array(ds.variables['WVEL'][tt,...], mask=mask)\n",
    "    Wacc = Wacc + W**2"
   ]
  },
  {
   "cell_type": "code",
   "execution_count": 17,
   "id": "1e3d59de",
   "metadata": {},
   "outputs": [
    {
     "data": {
      "text/plain": [
       "0.00323630580571749"
      ]
     },
     "execution_count": 17,
     "metadata": {},
     "output_type": "execute_result"
    }
   ],
   "source": [
    "VarBay_3d = np.nansum((Wacc*dt))/(time[tend3]-time[tini])\n",
    "VarBay_3d"
   ]
  },
  {
   "cell_type": "code",
   "execution_count": 18,
   "id": "b8b3ffb9",
   "metadata": {},
   "outputs": [],
   "source": [
    "for tt in range(tend3,tend4):\n",
    "    W = np.ma.masked_array(ds.variables['WVEL'][tt,...], mask=mask)\n",
    "    Wacc = Wacc + W**2    "
   ]
  },
  {
   "cell_type": "code",
   "execution_count": 19,
   "id": "7d20613d",
   "metadata": {},
   "outputs": [
    {
     "data": {
      "text/plain": [
       "0.0020143034754981676"
      ]
     },
     "execution_count": 19,
     "metadata": {},
     "output_type": "execute_result"
    }
   ],
   "source": [
    "VarBay_5d = np.nansum((Wacc*dt))/(time[tend4-1]-time[tini])\n",
    "VarBay_5d"
   ]
  },
  {
   "cell_type": "markdown",
   "id": "0cdfebeb",
   "metadata": {},
   "source": [
    "### Proportion"
   ]
  },
  {
   "cell_type": "code",
   "execution_count": 20,
   "id": "334641ab",
   "metadata": {},
   "outputs": [
    {
     "data": {
      "text/plain": [
       "0.06597365690464645"
      ]
     },
     "execution_count": 20,
     "metadata": {},
     "output_type": "execute_result"
    }
   ],
   "source": [
    "perc = ((VarBay-VarNoB)/VarNoB)*100\n",
    "perc\n",
    "perc_2d = ((VarBay_2d-VarNoB_2d)/VarNoB_2d)*100\n",
    "perc_2d\n",
    "perc_3d = ((VarBay_3d-VarNoB_3d)/VarNoB_3d)*100\n",
    "perc_3d\n",
    "perc_5d = ((VarBay_5d-VarNoB_5d)/VarNoB_5d)*100\n",
    "perc_5d"
   ]
  },
  {
   "cell_type": "code",
   "execution_count": 27,
   "id": "9ad183c1",
   "metadata": {},
   "outputs": [
    {
     "data": {
      "image/png": "[encoded data removed]",
      "text/plain": [
       "<Figure size 648x216 with 2 Axes>"
      ]
     },
     "metadata": {
      "needs_background": "light"
     },
     "output_type": "display_data"
    }
   ],
   "source": [
    "fig, (ax,ax1) = plt.subplots(1,2, figsize=(9,3))\n",
    "ax.plot([1,2,3,5], [VarBay, VarBay_2d, VarBay_3d, VarBay_5d],'go',markersize=8, label='Bay')\n",
    "ax.plot([1,2,3,5], [VarNoB, VarNoB_2d, VarNoB_3d, VarNoB_5d],'o' ,color='lightgreen', \n",
    "        label='No Bay')\n",
    "ax.set_xlabel('days')\n",
    "ax.set_ylabel('$<w^2>$ (m$^2$ s$^{-2}$)')\n",
    "ax.legend()\n",
    "\n",
    "ax1.plot([1,2,3,5], [perc, perc_2d, perc_3d, perc_5d],'o', color='0.2')\n",
    "ax1.set_xlabel('days')\n",
    "ax1.set_ylabel(r'($<w_{bay}^2>$-$<w_{noBay}^2>$)/$<w_{noBay}^2>$ %')\n",
    "ax1.set_title\n",
    "plt.tight_layout()"
   ]
  },
  {
   "cell_type": "code",
   "execution_count": null,
   "id": "e3606117",
   "metadata": {},
   "outputs": [],
   "source": []
  },
  {
   "cell_type": "code",
   "execution_count": null,
   "id": "778d8aa8",
   "metadata": {},
   "outputs": [],
   "source": []
  }
 ],
 "metadata": {
  "kernelspec": {
   "display_name": "Python 3",
   "language": "python",
   "name": "python3"
  },
  "language_info": {
   "codemirror_mode": {
    "name": "ipython",
    "version": 3
   },
   "file_extension": ".py",
   "mimetype": "text/x-python",
   "name": "python",
   "nbconvert_exporter": "python",
   "pygments_lexer": "ipython3",
   "version": "3.9.5"
  }
 },
 "nbformat": 4,
 "nbformat_minor": 5
}
