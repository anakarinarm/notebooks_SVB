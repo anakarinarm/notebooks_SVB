{
 "cells": [
  {
   "cell_type": "markdown",
   "id": "2acbf60e",
   "metadata": {},
   "source": [
    "### Calculate wind stress energy into the domain and kinetic energy - barotropic run"
   ]
  },
  {
   "cell_type": "code",
   "execution_count": 1,
   "id": "acb38e75",
   "metadata": {},
   "outputs": [],
   "source": [
    "import cmocean as cmo\n",
    "import matplotlib.pyplot as plt\n",
    "import numpy as np\n",
    "import seaborn as sns\n",
    "import warnings\n",
    "warnings.filterwarnings('ignore')\n",
    "from xmitgcm import open_mdsdataset"
   ]
  },
  {
   "cell_type": "code",
   "execution_count": 2,
   "id": "9e2caa0b",
   "metadata": {},
   "outputs": [],
   "source": [
    "def unstagger(ugrid, vgrid):\n",
    "    \"\"\" Interpolate u and v component values to values at grid cell centres (from D.Latornell for NEMO output).\n",
    "    The shapes of the returned arrays are 1 less than those of\n",
    "    the input arrays in the y and x dimensions.\n",
    "    :arg ugrid: u velocity component values with axes (..., y, x)\n",
    "    :type ugrid: :py:class:`numpy.ndarray`\n",
    "    :arg vgrid: v velocity component values with axes (..., y, x)\n",
    "    :type vgrid: :py:class:`numpy.ndarray`\n",
    "    :returns u, v: u and v component values at grid cell centres\n",
    "    :rtype: 2-tuple of :py:class:`numpy.ndarray`\n",
    "    \"\"\"\n",
    "    u = np.add(ugrid[..., :-1], ugrid[..., 1:]) / 2\n",
    "    v = np.add(vgrid[..., :-1, :], vgrid[..., 1:, :]) / 2\n",
    "    return u[..., :-1, :], v[..., :-1]\n",
    "\n",
    "def unstagger_w(wgrid):\n",
    "    \"\"\" Interpolate w to values at vetical grid cell centres.\n",
    "    The shape of the returned array is 1 less than that of\n",
    "    the input array yin the z dimension\n",
    "    :arg wgrid: w velocity component values with axes (z,...)\n",
    "    :type wgrid: :py:class:`numpy.ndarray`\n",
    "    :returns w: w component values at grid cell centres\n",
    "    :rtype: 2-tuple of :py:class:`numpy.ndarray`\n",
    "    \"\"\"\n",
    "    w = np.add(wgrid[:-1, ...], wgrid[1:, ...]) / 2\n",
    "    return w"
   ]
  },
  {
   "cell_type": "code",
   "execution_count": 3,
   "id": "18947802",
   "metadata": {},
   "outputs": [],
   "source": [
    "outdir = '/data/SO2/sio-kramosmusalem/exp06_512x612x100_ORL_SVB/02_SVB_barotropic_output/'\n",
    "outdir2 = '/data/SO2/sio-kramosmusalem/exp06_512x612x100_ORL/02_noSVB_barotropic/'\n",
    "\n",
    "levels = [0,  1,  2,  3,  4,  5,  6,  7,  8,  9, 10, \n",
    "          11, 12, 13, 14, 15, 16, 17,\n",
    "          18, 19, 20, 21, 22, 23, 24, 25,\n",
    "          26, 27, 28, 29, 30, 31,\n",
    "          32, 33, 34, 35, 36, 37, 38, 39, 40, 41, 42, 43, 44,\n",
    "          45, 46, 47, 48, 49, 50, 51, 52, 53, 54, 55, 56, 57,              \n",
    "          58, 59, 60, 61, 62, 63, 64, 65, 66, 67, 68, 69, \n",
    "          73, 78, 83, 88, 93, 98,]\n",
    "ds = open_mdsdataset(outdir, prefix=['eta','dynVars'], levels=levels,  chunks=None)\n",
    "ds2 = open_mdsdataset(outdir2, prefix=['eta','dynVars'], levels=levels, chunks=None)"
   ]
  },
  {
   "cell_type": "code",
   "execution_count": 4,
   "id": "785b00df",
   "metadata": {},
   "outputs": [],
   "source": [
    "nx = 512\n",
    "ny = 612\n",
    "nz = 76\n",
    "nt = 720\n",
    "dt = 600 # sec\n",
    "z1 = 26 # Zl[26] = -101.750 m\n",
    "z2 = 38 # Zl[38] = -202.200 m\n",
    "z3 = 46 # Zl[46] = -300.2 m\n",
    "z4 = 55 # Zl[55] = -495.700 m\n",
    "\n",
    "depth_nob = ds2.Depth[:]\n",
    "LAT = ds2['YC'][:]\n",
    "LON = ds2['XC'][:]-360\n",
    "lat = ds2.YC[:,0].data\n",
    "lon = ds2.XC[0,:].data-360\n",
    "\n",
    "Z = ds2['Z'][:]\n",
    "Zl = ds2['Zl'][:]\n",
    "\n",
    "# centers mask\n",
    "hFacC = ds2['hFacC'][:]\n",
    "hfac = np.ma.masked_values(hFacC, 0)\n",
    "masknoSVB = np.ma.getmask(hfac)\n",
    "time = np.arange(0,720)*600\n",
    "\n",
    "# centers mask bathy with bay\n",
    "depth_bay = ds.Depth[:]\n",
    "hFacCSVB = ds['hFacC'][:]\n",
    "hfacSVB = np.ma.masked_values(hFacCSVB, 0)\n",
    "maskSVB = np.ma.getmask(hfacSVB)"
   ]
  },
  {
   "cell_type": "markdown",
   "id": "b334cacc",
   "metadata": {},
   "source": [
    "### Energy from wind\n",
    "\n",
    "Eg. intro in https://www.sciencedirect.com/science/article/pii/S0967063708001994 or\n",
    "https://journals.ametsoc.org/view/journals/phoc/36/2/jpo2842.1.xml\n",
    "\n",
    "Wind power input per unit area\n",
    "\n",
    "$$P =\\vec{u_s}\\cdot\\vec{\\tau},$$\n",
    "where $\\vec{u_s}$ is the surface velocity and $\\vec{\\tau}$ is the wind stress (these should probably be 3D quantities $(u,v,w)$ and ($\\tau_x$,$\\tau_y$,Pressure?), but let's just use the horizontal components).\n",
    "\n",
    "Then, an integral of P over area gives a flux of energy in J/s.\n",
    "\n",
    "Do I have surface velocities?"
   ]
  },
  {
   "cell_type": "code",
   "execution_count": 5,
   "id": "696e186f",
   "metadata": {},
   "outputs": [
    {
     "name": "stdout",
     "output_type": "stream",
     "text": [
      "-1.000\n"
     ]
    }
   ],
   "source": [
    "print('%1.3f' %ds.Z.data[0])"
   ]
  },
  {
   "cell_type": "markdown",
   "id": "4c6a37c7",
   "metadata": {},
   "source": [
    "I have vel at 1 m depth. "
   ]
  },
  {
   "cell_type": "code",
   "execution_count": 6,
   "id": "2869d5a3",
   "metadata": {},
   "outputs": [],
   "source": [
    "## Make wind stress array\n",
    "\n",
    "## Gaussian pulse\n",
    "t = np.linspace(0,nt*0.167,nt) # time array of wind records\n",
    "max_tau = 0.1 # W/m^2\n",
    "sigma = 1\n",
    "center = 3.5 # base 3.5 hr, faster 2.5 hr, slower 4.5\n",
    "gauss = max_tau*np.exp(-((t-center)**2)/(2*sigma))\n",
    "mask = t>center\n",
    "gauss[mask]=0\n",
    "\n",
    "## Rotation angle (in deg) to get alongshore winds (see previous notebook)\n",
    "angle_up = 300. # upwelling favourable\n",
    "\n",
    "## domain size\n",
    "lat_bot = 27.0 \n",
    "lat_top = 35.3 \n",
    "\n",
    "## Region where winds will blow (over SVB: 27.9, 30.0, -115.1, -114)\n",
    "lat1 = 27.0 \n",
    "lat2 = 35.3 \n",
    "lon1 = -122 # -122 domain 5\n",
    "lon2 = -114\n",
    "\n",
    "## Domain boundaries\n",
    "lon_ini = -122.0 # -122.0 domain 5\n",
    "lon_end = -114.0\n",
    "lat_ini = 27.0\n",
    "lat_end = 35.3    \n",
    "    \n",
    "### Rotate winds\n",
    "windstress= np.expand_dims(np.expand_dims(gauss,1),1) + np.zeros((nt,ny,nx))\n",
    "alpha = np.radians(angle_up)\n",
    "\n",
    "zonal_tau = windstress*np.cos(alpha)\n",
    "merid_tau = windstress*np.sin(alpha)"
   ]
  },
  {
   "cell_type": "code",
   "execution_count": 7,
   "id": "567fc796",
   "metadata": {},
   "outputs": [
    {
     "data": {
      "text/plain": [
       "(0.0, 20.0)"
      ]
     },
     "execution_count": 7,
     "metadata": {},
     "output_type": "execute_result"
    },
    {
     "data": {
      "image/png": "[encoded data removed]",
      "text/plain": [
       "<Figure size 432x288 with 1 Axes>"
      ]
     },
     "metadata": {
      "needs_background": "light"
     },
     "output_type": "display_data"
    }
   ],
   "source": [
    "plt.plot(t,zonal_tau[:,0,0],'-o', color='darkred', label=r'$\\tau_x$')\n",
    "plt.plot(t,merid_tau[:,0,0],'-o', color='red', label=r'$\\tau_y$')\n",
    "plt.legend()\n",
    "plt.xlabel('time / hrs')\n",
    "plt.ylabel(r'$\\tau_{||}$ / N m$^{-2}$')\n",
    "plt.xlim(0,20)"
   ]
  },
  {
   "cell_type": "code",
   "execution_count": 8,
   "id": "a1cfffe4",
   "metadata": {},
   "outputs": [],
   "source": [
    "# Calculate P = \\vec{u}\\cdot\\vec{\\tau}\n",
    "\n",
    "# unstagger first\n",
    "UU,VV = unstagger(ds.UVEL.data[:,0,...],ds.VVEL.data[:,0,...])\n",
    "P = UU*zonal_tau[:,:ny-1,:nx-1] + VV*merid_tau[:,:ny-1,:nx-1]\n",
    "\n",
    "# No SVB\n",
    "UUnoSVB,VVnoSVB = unstagger(ds2.UVEL.data[:,0,...],ds2.VVEL.data[:,0,...])\n",
    "PnoSVB = UUnoSVB*zonal_tau[:,:ny-1,:nx-1] + VVnoSVB*merid_tau[:,:ny-1,:nx-1]"
   ]
  },
  {
   "cell_type": "code",
   "execution_count": 9,
   "id": "bd6a326e",
   "metadata": {},
   "outputs": [
    {
     "data": {
      "image/png": "[encoded data removed]",
      "text/plain": [
       "<Figure size 720x288 with 4 Axes>"
      ]
     },
     "metadata": {
      "needs_background": "light"
     },
     "output_type": "display_data"
    }
   ],
   "source": [
    "fig,(ax1,ax2) = plt.subplots(1,2, figsize=(10,4))\n",
    "pc = ax1.pcolormesh(lon,lat,P[20,:,:])\n",
    "plt.colorbar(pc,ax=ax1)\n",
    "p1 = [100,100]\n",
    "p2 = [460,120]\n",
    "p3 = [170,400]\n",
    "ax1.plot(lon[p1[0]],lat[p1[1]],'ro')\n",
    "ax1.plot(lon[p2[0]],lat[p2[1]],'ro')\n",
    "ax1.plot(lon[p3[0]],lat[p3[1]],'ro')\n",
    "ax1.set_aspect(1)\n",
    "\n",
    "pc2 = ax2.pcolormesh(lon,lat,PnoSVB[20,:,:])\n",
    "plt.colorbar(pc2,ax = ax2)\n",
    "ax2.set_aspect(1)"
   ]
  },
  {
   "cell_type": "code",
   "execution_count": 10,
   "id": "6f2cef82",
   "metadata": {},
   "outputs": [
    {
     "data": {
      "text/plain": [
       "[<matplotlib.lines.Line2D at 0x7f966b8ff3d0>]"
      ]
     },
     "execution_count": 10,
     "metadata": {},
     "output_type": "execute_result"
    },
    {
     "data": {
      "image/png": "[encoded data removed]",
      "text/plain": [
       "<Figure size 432x288 with 1 Axes>"
      ]
     },
     "metadata": {
      "needs_background": "light"
     },
     "output_type": "display_data"
    }
   ],
   "source": [
    "# Select only SVB area: \n",
    "# Add an inverse mask of noSVB mask and SVB mask, \n",
    "# that way only cells in the bay are not NaN \n",
    "\n",
    "onlySVB = ~masknoSVB+maskSVB\n",
    "\n",
    "plt.pcolormesh(lon[:nx-1],lat[:ny-1],np.ma.masked_array(P[20,:,:],mask=onlySVB[0,:ny-1,:nx-1]))\n",
    "plt.contour(lon,lat,depth_bay,levels=[0], colors=['k'])\n",
    "\n",
    "p1 = [100,100]\n",
    "p2 = [460,120]\n",
    "p3 = [170,400]\n",
    "\n",
    "plt.plot(lon[p1[0]],lat[p1[1]],'ro')\n",
    "plt.plot(lon[p2[0]],lat[p2[1]],'ro')\n",
    "plt.plot(lon[p3[0]],lat[p3[1]],'ro')"
   ]
  },
  {
   "cell_type": "code",
   "execution_count": 11,
   "id": "a56013ce",
   "metadata": {},
   "outputs": [],
   "source": [
    "# Calclulate energy flux in J/s over whole domain (surface integrated)\n",
    "# rA area tracer cells\n",
    "# This cell is fast\n",
    "dA = np.expand_dims(ds.rA.data,0) + np.zeros((nt,ny,nx))\n",
    "daP = dA[:,:ny-1,:nx-1]*P\n",
    "Ewind = np.nansum(np.nansum(daP, axis=1),axis=1)\n",
    "\n",
    "#No SVB\n",
    "dAnoSVB = np.expand_dims(ds2.rA.data,0) + np.zeros((nt,ny,nx))\n",
    "daPnoSVB = dAnoSVB[:,:ny-1,:nx-1]*PnoSVB\n",
    "EwindnoSVB = np.nansum(np.nansum(daPnoSVB, axis=1),axis=1)"
   ]
  },
  {
   "cell_type": "code",
   "execution_count": 24,
   "id": "c56e5992",
   "metadata": {},
   "outputs": [],
   "source": [
    "# Calclulate energy flux in J/s over SVB (surface integrated)\n",
    "# rA area tracer cells\n",
    "# This cell Takes ages if you try to mask, I am muliplying by mask instead\n",
    "#daP_SVB = np.ma.masked_array(daP,mask=onlySVB[0,:ny-1,:nx-1])\n",
    "daP_SVB = daP*(~onlySVB[0,:ny-1,:nx-1])\n"
   ]
  },
  {
   "cell_type": "code",
   "execution_count": 25,
   "id": "e1e48b87",
   "metadata": {},
   "outputs": [
    {
     "data": {
      "text/plain": [
       "<matplotlib.contour.QuadContourSet at 0x7fbaf2158d90>"
      ]
     },
     "execution_count": 25,
     "metadata": {},
     "output_type": "execute_result"
    },
    {
     "data": {
      "image/png": "[encoded data removed]",
      "text/plain": [
       "<Figure size 432x288 with 2 Axes>"
      ]
     },
     "metadata": {
      "needs_background": "light"
     },
     "output_type": "display_data"
    }
   ],
   "source": [
    "pc = plt.pcolormesh(lon[:nx-1],lat[:ny-1],daP_SVB[20,:,:])\n",
    "plt.colorbar(pc)\n",
    "plt.contour(lon,lat,depth_bay,levels=[0], colors=['k'])\n"
   ]
  },
  {
   "cell_type": "code",
   "execution_count": 12,
   "id": "00086e95",
   "metadata": {
    "scrolled": true
   },
   "outputs": [
    {
     "name": "stdout",
     "output_type": "stream",
     "text": [
      "Area with SVB: 4.78733e+11 m^2\n",
      "Area without SVB: 4.64252e+11 m^2\n",
      "Area of SVB: 1.46192e+10 m^2\n"
     ]
    }
   ],
   "source": [
    "# Area of domain with\n",
    "AREA = np.nansum(np.ma.masked_array(ds.rA.data, mask=maskSVB[0,:,:]))\n",
    "\n",
    "# Area without SVB\n",
    "AREA_woSVB = np.nansum(np.ma.masked_array(ds2.rA.data, mask=masknoSVB[0,:,:]))\n",
    "\n",
    "# Area SVB\n",
    "AREA_SVB = np.nansum(np.ma.masked_array(ds.rA.data,mask=onlySVB[0,:,:]))\n",
    "\n",
    "print('Area with SVB: %1.5e m^2' %AREA)\n",
    "print('Area without SVB: %1.5e m^2' %AREA_woSVB)\n",
    "print('Area of SVB: %1.5e m^2' %AREA_SVB)"
   ]
  },
  {
   "cell_type": "code",
   "execution_count": 18,
   "id": "b8f50747",
   "metadata": {},
   "outputs": [
    {
     "name": "stdout",
     "output_type": "stream",
     "text": [
      "Vol with SVB: 5.76902e+14 m^3\n",
      "Vol without SVB: 5.75482e+14 m^3\n",
      "Vol of SVB: 1.41968e+12 m^3\n"
     ]
    }
   ],
   "source": [
    "# Volume of domain with\n",
    "dA = np.expand_dims(ds.rA.data,0) + np.zeros((nz,ny,nx))\n",
    "drF =  np.expand_dims(np.expand_dims(ds.drF.data,1),1) + np.zeros((nz,ny,nx))\n",
    "\n",
    "dAnoSVB = np.expand_dims(ds2.rA.data,0) + np.zeros((nz,ny,nx))\n",
    "drFnoSVB =  np.expand_dims(np.expand_dims(ds2.drF.data,1),1) + np.zeros((nz,ny,nx))\n",
    "\n",
    "vol = dA * (drF) * hFacCSVB \n",
    "VOLUME = np.nansum(np.ma.masked_array(vol, mask=maskSVB))\n",
    "\n",
    "# Volume without SVB\n",
    "vol2 = dAnoSVB * (drFnoSVB) * hFacC\n",
    "VOLUME_woSVB = np.nansum(np.ma.masked_array(vol2, mask=masknoSVB))\n",
    "\n",
    "print('Vol with SVB: %1.5e m^3' %VOLUME)\n",
    "print('Vol without SVB: %1.5e m^3' %VOLUME_woSVB)\n",
    "print('Vol of SVB: %1.5e m^3' %(VOLUME-VOLUME_woSVB))"
   ]
  },
  {
   "cell_type": "code",
   "execution_count": 19,
   "id": "29d3ce17",
   "metadata": {},
   "outputs": [
    {
     "data": {
      "text/plain": [
       "1.0024674968113685"
      ]
     },
     "execution_count": 19,
     "metadata": {},
     "output_type": "execute_result"
    }
   ],
   "source": [
    "(5.76902e+14)/5.75482e+14"
   ]
  },
  {
   "cell_type": "code",
   "execution_count": 26,
   "id": "ca53d375",
   "metadata": {},
   "outputs": [],
   "source": [
    "# This cell takes ages too - I'm selecting only 22 times because I know Ewind is zero after 3.5 hours (21 ntimes)\n",
    "Ewind_SVB = np.nansum(np.nansum(daP_SVB[:44,], axis=1),axis=1)"
   ]
  },
  {
   "cell_type": "code",
   "execution_count": 27,
   "id": "a7ebd58c",
   "metadata": {},
   "outputs": [],
   "source": [
    "#for ee in Ewind[:44]:\n",
    "#    print('%f' %ee)"
   ]
  },
  {
   "cell_type": "code",
   "execution_count": 28,
   "id": "167103a8",
   "metadata": {},
   "outputs": [],
   "source": [
    "#for ee in EwindnoSVB[:44]:\n",
    "#    print('%f' %ee)"
   ]
  },
  {
   "cell_type": "code",
   "execution_count": 29,
   "id": "21b7abc8",
   "metadata": {},
   "outputs": [],
   "source": [
    "# slow\n",
    "#for ee in Ewind_SVB[:]:\n",
    "#    print('%f' %ee)"
   ]
  },
  {
   "cell_type": "code",
   "execution_count": 30,
   "id": "e6b32423",
   "metadata": {},
   "outputs": [],
   "source": [
    "## Non-zero elements of the array printed above\n",
    "Ewind_SVB_array = np.array([1967.336140,\n",
    "                             13658.249842,\n",
    "                             58381.587749,\n",
    "                             203059.249746,\n",
    "                             583040.490311,\n",
    "                            1605971.282449,\n",
    "                            4212949.908733,\n",
    "                            9988163.429514,\n",
    "                            22737647.608706,\n",
    "                            49719098.402076,\n",
    "                            100951667.449054,\n",
    "                            195337257.246875,\n",
    "                            361892444.111385,\n",
    "                            631783365.147192,\n",
    "                            1047506643.644784,\n",
    "                            1656420482.996358,\n",
    "                            2488822890.624424,\n",
    "                            3552559954.569267,\n",
    "                            4826334444.561691,\n",
    "                            6249001678.690140,\n",
    "                            7481331481.931970,\n",
    "                            0.000000])\n",
    "\n",
    "Ewind_noSVB_array =   np.array([1908.242113,\n",
    "                                13250.440428,\n",
    "                                56643.048604,\n",
    "                                197022.699529,\n",
    "                                565736.516323,\n",
    "                                1558333.593194,\n",
    "                                4088052.794804,\n",
    "                                9692372.395526,\n",
    "                                22064613.394391,\n",
    "                                48247946.294462,\n",
    "                                97966799.420028,\n",
    "                                189564709.144951,\n",
    "                                351202565.610907,\n",
    "                                613133365.634483,\n",
    "                                1016604312.240177,\n",
    "                                1607583381.294032,\n",
    "                                2415491252.341014,\n",
    "                                3447959452.724622,\n",
    "                                4684328563.799050,\n",
    "                                6065263172.112794,\n",
    "                                7261647121.061090,\n",
    "                                0.000000])\n",
    "\n",
    "Ewind_onlySVB_array = np.array([57.999554,\n",
    "                                399.526290,\n",
    "                                1701.314444,\n",
    "                                5902.245192,\n",
    "                                16903.844723,\n",
    "                                46522.982646,\n",
    "                                121952.956161,\n",
    "                                288711.758155,\n",
    "                                656842.711860,\n",
    "                                1435618.962636,\n",
    "                                2912042.260602,\n",
    "                                5630858.473472,\n",
    "                                10426294.092496,\n",
    "                                18186848.292017,\n",
    "                                30130501.571881,\n",
    "                                47611648.716257,\n",
    "                                71482254.507949,\n",
    "                                101949005.517322,\n",
    "                                138389008.463340,\n",
    "                                179037874.016783,\n",
    "                                213991926.116055,\n",
    "                                0.000000\n",
    "                                ])"
   ]
  },
  {
   "cell_type": "code",
   "execution_count": 31,
   "id": "481a560d",
   "metadata": {},
   "outputs": [
    {
     "data": {
      "text/plain": [
       "<matplotlib.legend.Legend at 0x7fbaf1750ac0>"
      ]
     },
     "execution_count": 31,
     "metadata": {},
     "output_type": "execute_result"
    },
    {
     "data": {
      "image/png": "[encoded data removed]",
      "text/plain": [
       "<Figure size 432x288 with 1 Axes>"
      ]
     },
     "metadata": {
      "needs_background": "light"
     },
     "output_type": "display_data"
    }
   ],
   "source": [
    "end = 22\n",
    "fig,ax = plt.subplots(1,1)\n",
    "ax.axhline(0, color='0.8')\n",
    "ax.plot(time[:end]/3600,Ewind_SVB_array,color='blue', label='SVB')\n",
    "ax.plot(time[:end]/3600,Ewind_noSVB_array,color='lightskyblue',label='no SVB')\n",
    "ax.plot(time[:end]/3600,Ewind_onlySVB_array,color='coral',label='only SVB', linewidth=2)\n",
    "ax.plot(time[:end]/3600,Ewind_SVB_array-Ewind_noSVB_array,'--',color='k',label='difference SVB-noSVB')\n",
    "ax.set_ylabel(r'Wind stress power input (J$~$s$^{-1}$)')\n",
    "ax.set_xlabel('Hours')\n",
    "ax.legend()"
   ]
  }
 ],
 "metadata": {
  "kernelspec": {
   "display_name": "Python 3",
   "language": "python",
   "name": "python3"
  },
  "language_info": {
   "codemirror_mode": {
    "name": "ipython",
    "version": 3
   },
   "file_extension": ".py",
   "mimetype": "text/x-python",
   "name": "python",
   "nbconvert_exporter": "python",
   "pygments_lexer": "ipython3",
   "version": "3.9.5"
  }
 },
 "nbformat": 4,
 "nbformat_minor": 5
}
